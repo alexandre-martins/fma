{
 "cells": [
  {
   "cell_type": "code",
   "execution_count": 1,
   "metadata": {},
   "outputs": [
    {
     "data": {
      "text/html": [
       "        <script type=\"text/javascript\">\n",
       "        window.PlotlyConfig = {MathJaxConfig: 'local'};\n",
       "        if (window.MathJax) {MathJax.Hub.Config({SVG: {font: \"STIX-Web\"}});}\n",
       "        if (typeof require !== 'undefined') {\n",
       "        require.undef(\"plotly\");\n",
       "        requirejs.config({\n",
       "            paths: {\n",
       "                'plotly': ['https://cdn.plot.ly/plotly-latest.min']\n",
       "            }\n",
       "        });\n",
       "        require(['plotly'], function(Plotly) {\n",
       "            window._Plotly = Plotly;\n",
       "        });\n",
       "        }\n",
       "        </script>\n",
       "        "
      ]
     },
     "metadata": {},
     "output_type": "display_data"
    },
    {
     "name": "stderr",
     "output_type": "stream",
     "text": [
      "Using TensorFlow backend.\n"
     ]
    }
   ],
   "source": [
    "import warnings\n",
    "warnings.filterwarnings(\"ignore\")\n",
    "import numpy as np\n",
    "import pandas as pd\n",
    "import chart_studio.plotly as py\n",
    "import plotly.graph_objs as go\n",
    "from plotly.offline import iplot, init_notebook_mode\n",
    "init_notebook_mode(connected=True)\n",
    "from keras.models import Sequential\n",
    "from keras.layers import Dense, Dropout\n",
    "from keras.layers import LSTM\n",
    "from keras.regularizers import l2\n",
    "from sklearn.preprocessing import MinMaxScaler\n",
    "\n",
    "model_data = pd.read_csv('data\\model_data.csv')"
   ]
  },
  {
   "cell_type": "code",
   "execution_count": 2,
   "metadata": {},
   "outputs": [],
   "source": [
    "model_data.dropna(inplace=True)\n",
    "model_data.drop(['close_future'], inplace=True, axis=1)"
   ]
  },
  {
   "cell_type": "code",
   "execution_count": 3,
   "metadata": {},
   "outputs": [],
   "source": [
    "# 80% train and 20% test splitting\n",
    "# Isso pega mais ou menos dois anos de teste (a partir de 2016)\n",
    "# Não fiz o train_test_split aleatório para não avacalhar com a relação temporal da série...\n",
    "\n",
    "train = model_data[0:1965]\n",
    "test = model_data[1965:2457]"
   ]
  },
  {
   "cell_type": "code",
   "execution_count": 4,
   "metadata": {},
   "outputs": [],
   "source": [
    "# Normalizando as features\n",
    "scaler = MinMaxScaler()\n",
    "\n",
    "x_train = train.drop(['daily_percentage_change', 'date'], axis=1)\n",
    "x_train = scaler.fit_transform(x_train)\n",
    "y_train = train['daily_percentage_change']\n",
    "x_test = test.drop(['daily_percentage_change', 'date'], axis=1)\n",
    "x_test = scaler.fit_transform(x_test)\n",
    "y_test = test['daily_percentage_change']"
   ]
  },
  {
   "cell_type": "code",
   "execution_count": 5,
   "metadata": {},
   "outputs": [],
   "source": [
    "# Transformando em arrays. Acho que só colocar o dataframe.values também funciona kkk\n",
    "\n",
    "y_train = np.array(y_train, dtype=float)\n",
    "y_test = np.array(y_test, dtype=float)"
   ]
  },
  {
   "cell_type": "code",
   "execution_count": 6,
   "metadata": {},
   "outputs": [],
   "source": [
    "# Fazendo um reshape dos dados para alimentar o modelo. O LSTM requer que os dados sejam alimentados na forma\n",
    "# [samples, time_steps, features]\n",
    "\n",
    "x_train = x_train.reshape(x_train.shape[0], 1, x_train.shape[1])\n",
    "x_test = x_test.reshape(x_test.shape[0], 1, x_test.shape[1])"
   ]
  },
  {
   "cell_type": "code",
   "execution_count": 7,
   "metadata": {},
   "outputs": [],
   "source": [
    "# Função que transforma as percentages de variação diárias em decisões de compra, venda ou hold\n",
    "# Os limites são baseados na distribuição que está no notebook correlations_and_features\n",
    "\n",
    "def make_position(data):\n",
    "    new_array = []\n",
    "    for percent in data:\n",
    "        if percent <= -0.025:\n",
    "            position = 'sell'\n",
    "        elif percent >= 0.022:\n",
    "            position = 'buy'\n",
    "        else:\n",
    "            position = 'hold'\n",
    "        new_array.append(position)\n",
    "    return np.array(new_array)"
   ]
  },
  {
   "cell_type": "code",
   "execution_count": 8,
   "metadata": {},
   "outputs": [],
   "source": [
    "y_train_categorical = make_position(y_train)\n",
    "y_test_categorical = make_position(y_test)\n",
    "\n",
    "# A função get_dummies cria uma variável para cada categoria. Logo, a matriz Y tem 3 dimensões (uma coluna para cada categoria,\n",
    "# sempre com 0 e 1)\n",
    "\n",
    "targets_train = pd.DataFrame({'y_train': y_train_categorical})\n",
    "y_train_dummies = pd.get_dummies(targets_train)\n",
    "targets_test = pd.DataFrame({'y_train': y_test_categorical})\n",
    "y_test_dummies = pd.get_dummies(targets_test)"
   ]
  },
  {
   "cell_type": "code",
   "execution_count": 9,
   "metadata": {},
   "outputs": [
    {
     "data": {
      "text/html": [
       "<div>\n",
       "<style scoped>\n",
       "    .dataframe tbody tr th:only-of-type {\n",
       "        vertical-align: middle;\n",
       "    }\n",
       "\n",
       "    .dataframe tbody tr th {\n",
       "        vertical-align: top;\n",
       "    }\n",
       "\n",
       "    .dataframe thead th {\n",
       "        text-align: right;\n",
       "    }\n",
       "</style>\n",
       "<table border=\"1\" class=\"dataframe\">\n",
       "  <thead>\n",
       "    <tr style=\"text-align: right;\">\n",
       "      <th></th>\n",
       "      <th>y_train_buy</th>\n",
       "      <th>y_train_hold</th>\n",
       "      <th>y_train_sell</th>\n",
       "    </tr>\n",
       "  </thead>\n",
       "  <tbody>\n",
       "    <tr>\n",
       "      <th>0</th>\n",
       "      <td>1</td>\n",
       "      <td>0</td>\n",
       "      <td>0</td>\n",
       "    </tr>\n",
       "    <tr>\n",
       "      <th>1</th>\n",
       "      <td>1</td>\n",
       "      <td>0</td>\n",
       "      <td>0</td>\n",
       "    </tr>\n",
       "    <tr>\n",
       "      <th>2</th>\n",
       "      <td>0</td>\n",
       "      <td>1</td>\n",
       "      <td>0</td>\n",
       "    </tr>\n",
       "    <tr>\n",
       "      <th>3</th>\n",
       "      <td>0</td>\n",
       "      <td>1</td>\n",
       "      <td>0</td>\n",
       "    </tr>\n",
       "    <tr>\n",
       "      <th>4</th>\n",
       "      <td>0</td>\n",
       "      <td>0</td>\n",
       "      <td>1</td>\n",
       "    </tr>\n",
       "  </tbody>\n",
       "</table>\n",
       "</div>"
      ],
      "text/plain": [
       "   y_train_buy  y_train_hold  y_train_sell\n",
       "0            1             0             0\n",
       "1            1             0             0\n",
       "2            0             1             0\n",
       "3            0             1             0\n",
       "4            0             0             1"
      ]
     },
     "execution_count": 9,
     "metadata": {},
     "output_type": "execute_result"
    }
   ],
   "source": [
    "y_train_dummies.head()"
   ]
  },
  {
   "cell_type": "code",
   "execution_count": 10,
   "metadata": {},
   "outputs": [
    {
     "name": "stdout",
     "output_type": "stream",
     "text": [
      "Shape X treino : (1965, 1, 20)\n",
      "Shape Y treino : (1965, 3)\n",
      "Shape X teste : (492, 1, 20)\n",
      "Shape Y teste : (492, 3)\n"
     ]
    }
   ],
   "source": [
    "# Avaliando todos os shapes\n",
    "\n",
    "print('Shape X treino :', x_train.shape)\n",
    "print('Shape Y treino :', y_train_dummies.shape)\n",
    "print('Shape X teste :', x_test.shape)\n",
    "print('Shape Y teste :', y_test_dummies.shape)"
   ]
  },
  {
   "cell_type": "code",
   "execution_count": 11,
   "metadata": {},
   "outputs": [
    {
     "data": {
      "text/plain": [
       "{'buy': 369, 'hold': 1228, 'sell': 368}"
      ]
     },
     "execution_count": 11,
     "metadata": {},
     "output_type": "execute_result"
    }
   ],
   "source": [
    "# Verificando o balanceamento das classes\n",
    "# Estão desbalanceadas! Isso pode estar prejudicando o modelo...\n",
    "\n",
    "unique, counts = np.unique(y_train_categorical, return_counts=True)\n",
    "dict(zip(unique, counts))"
   ]
  },
  {
   "cell_type": "code",
   "execution_count": 12,
   "metadata": {},
   "outputs": [],
   "source": [
    "n_timesteps, n_features, n_outputs = x_train.shape[1], x_train.shape[2], y_train_dummies.shape[1]"
   ]
  },
  {
   "cell_type": "code",
   "execution_count": 13,
   "metadata": {},
   "outputs": [
    {
     "name": "stdout",
     "output_type": "stream",
     "text": [
      "WARNING:tensorflow:From C:\\Users\\aleex\\Anaconda3\\lib\\site-packages\\keras\\backend\\tensorflow_backend.py:66: The name tf.get_default_graph is deprecated. Please use tf.compat.v1.get_default_graph instead.\n",
      "\n",
      "WARNING:tensorflow:From C:\\Users\\aleex\\Anaconda3\\lib\\site-packages\\keras\\backend\\tensorflow_backend.py:541: The name tf.placeholder is deprecated. Please use tf.compat.v1.placeholder instead.\n",
      "\n",
      "WARNING:tensorflow:From C:\\Users\\aleex\\Anaconda3\\lib\\site-packages\\keras\\backend\\tensorflow_backend.py:4432: The name tf.random_uniform is deprecated. Please use tf.random.uniform instead.\n",
      "\n",
      "WARNING:tensorflow:From C:\\Users\\aleex\\Anaconda3\\lib\\site-packages\\keras\\backend\\tensorflow_backend.py:148: The name tf.placeholder_with_default is deprecated. Please use tf.compat.v1.placeholder_with_default instead.\n",
      "\n",
      "WARNING:tensorflow:From C:\\Users\\aleex\\Anaconda3\\lib\\site-packages\\keras\\backend\\tensorflow_backend.py:3733: calling dropout (from tensorflow.python.ops.nn_ops) with keep_prob is deprecated and will be removed in a future version.\n",
      "Instructions for updating:\n",
      "Please use `rate` instead of `keep_prob`. Rate should be set to `rate = 1 - keep_prob`.\n",
      "WARNING:tensorflow:From C:\\Users\\aleex\\Anaconda3\\lib\\site-packages\\keras\\optimizers.py:793: The name tf.train.Optimizer is deprecated. Please use tf.compat.v1.train.Optimizer instead.\n",
      "\n",
      "WARNING:tensorflow:From C:\\Users\\aleex\\Anaconda3\\lib\\site-packages\\keras\\backend\\tensorflow_backend.py:3576: The name tf.log is deprecated. Please use tf.math.log instead.\n",
      "\n",
      "Model: \"sequential_1\"\n",
      "_________________________________________________________________\n",
      "Layer (type)                 Output Shape              Param #   \n",
      "=================================================================\n",
      "lstm_1 (LSTM)                (None, 100)               48400     \n",
      "_________________________________________________________________\n",
      "dense_1 (Dense)              (None, 100)               10100     \n",
      "_________________________________________________________________\n",
      "dropout_1 (Dropout)          (None, 100)               0         \n",
      "_________________________________________________________________\n",
      "dense_2 (Dense)              (None, 3)                 303       \n",
      "=================================================================\n",
      "Total params: 58,803\n",
      "Trainable params: 58,803\n",
      "Non-trainable params: 0\n",
      "_________________________________________________________________\n"
     ]
    }
   ],
   "source": [
    "model = Sequential()  \n",
    "model.add(LSTM(100, input_shape=(n_timesteps,n_features)))\n",
    "model.add(Dense(100, activation='relu'))\n",
    "model.add(Dropout(0.3, noise_shape=None, seed=None))\n",
    "model.add(Dense(n_outputs, activation='sigmoid'))\n",
    "model.compile(loss='categorical_crossentropy', optimizer='adam', metrics=['accuracy'])\n",
    "model.summary()"
   ]
  },
  {
   "cell_type": "code",
   "execution_count": 14,
   "metadata": {},
   "outputs": [
    {
     "name": "stdout",
     "output_type": "stream",
     "text": [
      "WARNING:tensorflow:From C:\\Users\\aleex\\AppData\\Roaming\\Python\\Python36\\site-packages\\tensorflow\\python\\ops\\math_grad.py:1250: add_dispatch_support.<locals>.wrapper (from tensorflow.python.ops.array_ops) is deprecated and will be removed in a future version.\n",
      "Instructions for updating:\n",
      "Use tf.where in 2.0, which has the same broadcast rule as np.where\n",
      "Train on 1965 samples, validate on 492 samples\n",
      "Epoch 1/100\n",
      "1965/1965 [==============================] - 1s 425us/step - loss: 0.9602 - acc: 0.6214 - val_loss: 1.1037 - val_acc: 0.4919\n",
      "Epoch 2/100\n",
      "1965/1965 [==============================] - 0s 74us/step - loss: 0.8917 - acc: 0.6249 - val_loss: 1.0794 - val_acc: 0.4919\n",
      "Epoch 3/100\n",
      "1965/1965 [==============================] - 0s 75us/step - loss: 0.8904 - acc: 0.6249 - val_loss: 1.0898 - val_acc: 0.4919\n",
      "Epoch 4/100\n",
      "1965/1965 [==============================] - 0s 75us/step - loss: 0.8901 - acc: 0.6249 - val_loss: 1.0806 - val_acc: 0.4919\n",
      "Epoch 5/100\n",
      "1965/1965 [==============================] - 0s 77us/step - loss: 0.8836 - acc: 0.6249 - val_loss: 1.1136 - val_acc: 0.4919\n",
      "Epoch 6/100\n",
      "1965/1965 [==============================] - 0s 77us/step - loss: 0.8825 - acc: 0.6249 - val_loss: 1.0893 - val_acc: 0.4919\n",
      "Epoch 7/100\n",
      "1965/1965 [==============================] - 0s 76us/step - loss: 0.8770 - acc: 0.6249 - val_loss: 1.0847 - val_acc: 0.4919\n",
      "Epoch 8/100\n",
      "1965/1965 [==============================] - 0s 77us/step - loss: 0.8749 - acc: 0.6244 - val_loss: 1.0614 - val_acc: 0.4878\n",
      "Epoch 9/100\n",
      "1965/1965 [==============================] - 0s 76us/step - loss: 0.8738 - acc: 0.6234 - val_loss: 1.0403 - val_acc: 0.4898\n",
      "Epoch 10/100\n",
      "1965/1965 [==============================] - 0s 76us/step - loss: 0.8702 - acc: 0.6280 - val_loss: 1.0527 - val_acc: 0.4878\n",
      "Epoch 11/100\n",
      "1965/1965 [==============================] - 0s 74us/step - loss: 0.8682 - acc: 0.6275 - val_loss: 1.0427 - val_acc: 0.4837\n",
      "Epoch 12/100\n",
      "1965/1965 [==============================] - 0s 75us/step - loss: 0.8661 - acc: 0.6265 - val_loss: 1.0563 - val_acc: 0.4736\n",
      "Epoch 13/100\n",
      "1965/1965 [==============================] - 0s 74us/step - loss: 0.8637 - acc: 0.6300 - val_loss: 1.0478 - val_acc: 0.4715\n",
      "Epoch 14/100\n",
      "1965/1965 [==============================] - 0s 74us/step - loss: 0.8642 - acc: 0.6336 - val_loss: 1.0545 - val_acc: 0.4695\n",
      "Epoch 15/100\n",
      "1965/1965 [==============================] - 0s 161us/step - loss: 0.8597 - acc: 0.6316 - val_loss: 1.0726 - val_acc: 0.4776\n",
      "Epoch 16/100\n",
      "1965/1965 [==============================] - 0s 165us/step - loss: 0.8628 - acc: 0.6280 - val_loss: 1.0585 - val_acc: 0.4756\n",
      "Epoch 17/100\n",
      "1965/1965 [==============================] - 0s 164us/step - loss: 0.8564 - acc: 0.6321 - val_loss: 1.0428 - val_acc: 0.4776\n",
      "Epoch 18/100\n",
      "1965/1965 [==============================] - 0s 167us/step - loss: 0.8574 - acc: 0.6310 - val_loss: 1.0418 - val_acc: 0.4898\n",
      "Epoch 19/100\n",
      "1965/1965 [==============================] - 0s 173us/step - loss: 0.8597 - acc: 0.6321 - val_loss: 1.0432 - val_acc: 0.4797\n",
      "Epoch 20/100\n",
      "1965/1965 [==============================] - 0s 170us/step - loss: 0.8604 - acc: 0.6321 - val_loss: 1.0471 - val_acc: 0.4878\n",
      "Epoch 21/100\n",
      "1965/1965 [==============================] - 0s 169us/step - loss: 0.8574 - acc: 0.6290 - val_loss: 1.0492 - val_acc: 0.4837\n",
      "Epoch 22/100\n",
      "1965/1965 [==============================] - 0s 172us/step - loss: 0.8557 - acc: 0.6285 - val_loss: 1.0535 - val_acc: 0.4898\n",
      "Epoch 23/100\n",
      "1965/1965 [==============================] - 0s 169us/step - loss: 0.8543 - acc: 0.6275 - val_loss: 1.0664 - val_acc: 0.4878\n",
      "Epoch 24/100\n",
      "1965/1965 [==============================] - 0s 94us/step - loss: 0.8528 - acc: 0.6331 - val_loss: 1.0557 - val_acc: 0.4817\n",
      "Epoch 25/100\n",
      "1965/1965 [==============================] - 0s 92us/step - loss: 0.8522 - acc: 0.6321 - val_loss: 1.0321 - val_acc: 0.4736\n",
      "Epoch 26/100\n",
      "1965/1965 [==============================] - 0s 79us/step - loss: 0.8553 - acc: 0.6326 - val_loss: 1.0676 - val_acc: 0.5020\n",
      "Epoch 27/100\n",
      "1965/1965 [==============================] - 0s 76us/step - loss: 0.8560 - acc: 0.6305 - val_loss: 1.0482 - val_acc: 0.5020\n",
      "Epoch 28/100\n",
      "1965/1965 [==============================] - 0s 77us/step - loss: 0.8531 - acc: 0.6326 - val_loss: 1.0321 - val_acc: 0.4797\n",
      "Epoch 29/100\n",
      "1965/1965 [==============================] - 0s 84us/step - loss: 0.8487 - acc: 0.6341 - val_loss: 1.0579 - val_acc: 0.4939\n",
      "Epoch 30/100\n",
      "1965/1965 [==============================] - 0s 82us/step - loss: 0.8508 - acc: 0.6387 - val_loss: 1.0324 - val_acc: 0.4675\n",
      "Epoch 31/100\n",
      "1965/1965 [==============================] - 0s 83us/step - loss: 0.8520 - acc: 0.6336 - val_loss: 1.0395 - val_acc: 0.4797\n",
      "Epoch 32/100\n",
      "1965/1965 [==============================] - 0s 76us/step - loss: 0.8452 - acc: 0.6316 - val_loss: 1.0250 - val_acc: 0.4736\n",
      "Epoch 33/100\n",
      "1965/1965 [==============================] - 0s 76us/step - loss: 0.8399 - acc: 0.6377 - val_loss: 1.0362 - val_acc: 0.4797\n",
      "Epoch 34/100\n",
      "1965/1965 [==============================] - 0s 98us/step - loss: 0.8466 - acc: 0.6407 - val_loss: 1.0181 - val_acc: 0.4736\n",
      "Epoch 35/100\n",
      "1965/1965 [==============================] - 0s 84us/step - loss: 0.8421 - acc: 0.6356 - val_loss: 1.0466 - val_acc: 0.4776\n",
      "Epoch 36/100\n",
      "1965/1965 [==============================] - 0s 139us/step - loss: 0.8409 - acc: 0.6417 - val_loss: 1.0393 - val_acc: 0.4817\n",
      "Epoch 37/100\n",
      "1965/1965 [==============================] - 0s 169us/step - loss: 0.8445 - acc: 0.6366 - val_loss: 1.0389 - val_acc: 0.4878\n",
      "Epoch 38/100\n",
      "1965/1965 [==============================] - 0s 186us/step - loss: 0.8370 - acc: 0.6361 - val_loss: 1.0858 - val_acc: 0.4878\n",
      "Epoch 39/100\n",
      "1965/1965 [==============================] - 0s 172us/step - loss: 0.8448 - acc: 0.6402 - val_loss: 1.0441 - val_acc: 0.4837\n",
      "Epoch 40/100\n",
      "1965/1965 [==============================] - 0s 193us/step - loss: 0.8353 - acc: 0.6422 - val_loss: 1.0644 - val_acc: 0.4878\n",
      "Epoch 41/100\n",
      "1965/1965 [==============================] - 0s 172us/step - loss: 0.8377 - acc: 0.6402 - val_loss: 1.0517 - val_acc: 0.4797\n",
      "Epoch 42/100\n",
      "1965/1965 [==============================] - 0s 169us/step - loss: 0.8380 - acc: 0.6402 - val_loss: 1.0544 - val_acc: 0.4858\n",
      "Epoch 43/100\n",
      "1965/1965 [==============================] - 0s 171us/step - loss: 0.8336 - acc: 0.6346 - val_loss: 1.0686 - val_acc: 0.4837\n",
      "Epoch 44/100\n",
      "1965/1965 [==============================] - 0s 168us/step - loss: 0.8357 - acc: 0.6336 - val_loss: 1.0663 - val_acc: 0.4858\n",
      "Epoch 45/100\n",
      "1965/1965 [==============================] - 0s 96us/step - loss: 0.8302 - acc: 0.6438 - val_loss: 1.0885 - val_acc: 0.4898\n",
      "Epoch 46/100\n",
      "1965/1965 [==============================] - 0s 77us/step - loss: 0.8285 - acc: 0.6433 - val_loss: 1.1151 - val_acc: 0.4878\n",
      "Epoch 47/100\n",
      "1965/1965 [==============================] - 0s 76us/step - loss: 0.8307 - acc: 0.6387 - val_loss: 1.0986 - val_acc: 0.4858\n",
      "Epoch 48/100\n",
      "1965/1965 [==============================] - 0s 76us/step - loss: 0.8329 - acc: 0.6417 - val_loss: 1.0784 - val_acc: 0.4878\n",
      "Epoch 49/100\n",
      "1965/1965 [==============================] - 0s 78us/step - loss: 0.8327 - acc: 0.6387 - val_loss: 1.0760 - val_acc: 0.4817\n",
      "Epoch 50/100\n",
      "1965/1965 [==============================] - 0s 80us/step - loss: 0.8280 - acc: 0.6433 - val_loss: 1.1056 - val_acc: 0.4878\n",
      "Epoch 51/100\n",
      "1965/1965 [==============================] - 0s 76us/step - loss: 0.8228 - acc: 0.6417 - val_loss: 1.0935 - val_acc: 0.4837\n",
      "Epoch 52/100\n",
      "1965/1965 [==============================] - 0s 77us/step - loss: 0.8283 - acc: 0.6417 - val_loss: 1.0880 - val_acc: 0.4858\n",
      "Epoch 53/100\n",
      "1965/1965 [==============================] - 0s 75us/step - loss: 0.8206 - acc: 0.6443 - val_loss: 1.1182 - val_acc: 0.4837\n",
      "Epoch 54/100\n",
      "1965/1965 [==============================] - 0s 74us/step - loss: 0.8212 - acc: 0.6438 - val_loss: 1.1159 - val_acc: 0.4837\n",
      "Epoch 55/100\n",
      "1965/1965 [==============================] - 0s 75us/step - loss: 0.8266 - acc: 0.6402 - val_loss: 1.0985 - val_acc: 0.4817\n",
      "Epoch 56/100\n",
      "1965/1965 [==============================] - 0s 85us/step - loss: 0.8342 - acc: 0.6427 - val_loss: 1.1316 - val_acc: 0.5081\n",
      "Epoch 57/100\n",
      "1965/1965 [==============================] - 0s 85us/step - loss: 0.8246 - acc: 0.6397 - val_loss: 1.0965 - val_acc: 0.4837\n"
     ]
    },
    {
     "name": "stdout",
     "output_type": "stream",
     "text": [
      "Epoch 58/100\n",
      "1965/1965 [==============================] - 0s 155us/step - loss: 0.8260 - acc: 0.6372 - val_loss: 1.1116 - val_acc: 0.4797\n",
      "Epoch 59/100\n",
      "1965/1965 [==============================] - 0s 165us/step - loss: 0.8229 - acc: 0.6427 - val_loss: 1.1036 - val_acc: 0.4776\n",
      "Epoch 60/100\n",
      "1965/1965 [==============================] - 0s 172us/step - loss: 0.8206 - acc: 0.6483 - val_loss: 1.1030 - val_acc: 0.4736\n",
      "Epoch 61/100\n",
      "1965/1965 [==============================] - 0s 183us/step - loss: 0.8266 - acc: 0.6387 - val_loss: 1.1079 - val_acc: 0.4817\n",
      "Epoch 62/100\n",
      "1965/1965 [==============================] - 0s 170us/step - loss: 0.8180 - acc: 0.6433 - val_loss: 1.1179 - val_acc: 0.4776\n",
      "Epoch 63/100\n",
      "1965/1965 [==============================] - 0s 169us/step - loss: 0.8206 - acc: 0.6412 - val_loss: 1.1312 - val_acc: 0.4817\n",
      "Epoch 64/100\n",
      "1965/1965 [==============================] - 0s 178us/step - loss: 0.8233 - acc: 0.6438 - val_loss: 1.1155 - val_acc: 0.4736\n",
      "Epoch 65/100\n",
      "1965/1965 [==============================] - 0s 185us/step - loss: 0.8206 - acc: 0.6433 - val_loss: 1.1350 - val_acc: 0.4817\n",
      "Epoch 66/100\n",
      "1965/1965 [==============================] - 0s 166us/step - loss: 0.8152 - acc: 0.6473 - val_loss: 1.1499 - val_acc: 0.4837\n",
      "Epoch 67/100\n",
      "1965/1965 [==============================] - 0s 88us/step - loss: 0.8167 - acc: 0.6473 - val_loss: 1.1622 - val_acc: 0.5000\n",
      "Epoch 68/100\n",
      "1965/1965 [==============================] - 0s 84us/step - loss: 0.8220 - acc: 0.6438 - val_loss: 1.1252 - val_acc: 0.4776\n",
      "Epoch 69/100\n",
      "1965/1965 [==============================] - 0s 75us/step - loss: 0.8173 - acc: 0.6397 - val_loss: 1.1267 - val_acc: 0.4715\n",
      "Epoch 70/100\n",
      "1965/1965 [==============================] - 0s 77us/step - loss: 0.8167 - acc: 0.6453 - val_loss: 1.1466 - val_acc: 0.4837\n",
      "Epoch 71/100\n",
      "1965/1965 [==============================] - 0s 76us/step - loss: 0.8257 - acc: 0.6372 - val_loss: 1.1803 - val_acc: 0.5041\n",
      "Epoch 72/100\n",
      "1965/1965 [==============================] - 0s 74us/step - loss: 0.8188 - acc: 0.6463 - val_loss: 1.1557 - val_acc: 0.5061\n",
      "Epoch 73/100\n",
      "1965/1965 [==============================] - 0s 139us/step - loss: 0.8118 - acc: 0.6427 - val_loss: 1.1461 - val_acc: 0.4837\n",
      "Epoch 74/100\n",
      "1965/1965 [==============================] - 0s 192us/step - loss: 0.8191 - acc: 0.6438 - val_loss: 1.1448 - val_acc: 0.4898\n",
      "Epoch 75/100\n",
      "1965/1965 [==============================] - 0s 173us/step - loss: 0.8202 - acc: 0.6427 - val_loss: 1.1438 - val_acc: 0.4878\n",
      "Epoch 76/100\n",
      "1965/1965 [==============================] - 0s 179us/step - loss: 0.8167 - acc: 0.6458 - val_loss: 1.1342 - val_acc: 0.4776\n",
      "Epoch 77/100\n",
      "1965/1965 [==============================] - 0s 185us/step - loss: 0.8181 - acc: 0.6519 - val_loss: 1.1428 - val_acc: 0.4776\n",
      "Epoch 78/100\n",
      "1965/1965 [==============================] - 0s 176us/step - loss: 0.8104 - acc: 0.6458 - val_loss: 1.1596 - val_acc: 0.4898\n",
      "Epoch 79/100\n",
      "1965/1965 [==============================] - 0s 170us/step - loss: 0.8174 - acc: 0.6448 - val_loss: 1.1605 - val_acc: 0.4837\n",
      "Epoch 80/100\n",
      "1965/1965 [==============================] - 0s 181us/step - loss: 0.8174 - acc: 0.6438 - val_loss: 1.1349 - val_acc: 0.4736\n",
      "Epoch 81/100\n",
      "1965/1965 [==============================] - 0s 171us/step - loss: 0.8139 - acc: 0.6468 - val_loss: 1.1493 - val_acc: 0.4858\n",
      "Epoch 82/100\n",
      "1965/1965 [==============================] - 0s 170us/step - loss: 0.8199 - acc: 0.6514 - val_loss: 1.1268 - val_acc: 0.4898\n",
      "Epoch 83/100\n",
      "1965/1965 [==============================] - 0s 183us/step - loss: 0.8118 - acc: 0.6478 - val_loss: 1.1586 - val_acc: 0.4898\n",
      "Epoch 84/100\n",
      "1965/1965 [==============================] - 0s 166us/step - loss: 0.8154 - acc: 0.6417 - val_loss: 1.1589 - val_acc: 0.4919\n",
      "Epoch 85/100\n",
      "1965/1965 [==============================] - 0s 80us/step - loss: 0.8072 - acc: 0.6519 - val_loss: 1.1502 - val_acc: 0.4776\n",
      "Epoch 86/100\n",
      "1965/1965 [==============================] - 0s 81us/step - loss: 0.8211 - acc: 0.6473 - val_loss: 1.1373 - val_acc: 0.4756\n",
      "Epoch 87/100\n",
      "1965/1965 [==============================] - 0s 83us/step - loss: 0.8117 - acc: 0.6489 - val_loss: 1.1566 - val_acc: 0.4898\n",
      "Epoch 88/100\n",
      "1965/1965 [==============================] - 0s 82us/step - loss: 0.8154 - acc: 0.6443 - val_loss: 1.1635 - val_acc: 0.4919\n",
      "Epoch 89/100\n",
      "1965/1965 [==============================] - 0s 82us/step - loss: 0.8057 - acc: 0.6473 - val_loss: 1.1516 - val_acc: 0.4858\n",
      "Epoch 90/100\n",
      "1965/1965 [==============================] - 0s 79us/step - loss: 0.8124 - acc: 0.6433 - val_loss: 1.1949 - val_acc: 0.4959\n",
      "Epoch 91/100\n",
      "1965/1965 [==============================] - 0s 81us/step - loss: 0.8133 - acc: 0.6519 - val_loss: 1.1702 - val_acc: 0.4919\n",
      "Epoch 92/100\n",
      "1965/1965 [==============================] - 0s 82us/step - loss: 0.8094 - acc: 0.6473 - val_loss: 1.1564 - val_acc: 0.4898\n",
      "Epoch 93/100\n",
      "1965/1965 [==============================] - 0s 78us/step - loss: 0.8122 - acc: 0.6509 - val_loss: 1.1648 - val_acc: 0.4736\n",
      "Epoch 94/100\n",
      "1965/1965 [==============================] - 0s 81us/step - loss: 0.8103 - acc: 0.6489 - val_loss: 1.1817 - val_acc: 0.4858\n",
      "Epoch 95/100\n",
      "1965/1965 [==============================] - 0s 78us/step - loss: 0.8128 - acc: 0.6560 - val_loss: 1.1573 - val_acc: 0.4878\n",
      "Epoch 96/100\n",
      "1965/1965 [==============================] - 0s 79us/step - loss: 0.8084 - acc: 0.6438 - val_loss: 1.1814 - val_acc: 0.4858\n",
      "Epoch 97/100\n",
      "1965/1965 [==============================] - 0s 125us/step - loss: 0.8093 - acc: 0.6453 - val_loss: 1.1669 - val_acc: 0.4756\n",
      "Epoch 98/100\n",
      "1965/1965 [==============================] - 0s 175us/step - loss: 0.8147 - acc: 0.6417 - val_loss: 1.2104 - val_acc: 0.5081\n",
      "Epoch 99/100\n",
      "1965/1965 [==============================] - 0s 171us/step - loss: 0.8087 - acc: 0.6458 - val_loss: 1.1842 - val_acc: 0.4898\n",
      "Epoch 100/100\n",
      "1965/1965 [==============================] - 0s 167us/step - loss: 0.8094 - acc: 0.6473 - val_loss: 1.1896 - val_acc: 0.4756\n"
     ]
    }
   ],
   "source": [
    "history = model.fit(x_train, y_train_dummies.values, nb_epoch=100, verbose=1, validation_data=(x_test, y_test_dummies.values))"
   ]
  },
  {
   "cell_type": "code",
   "execution_count": 15,
   "metadata": {},
   "outputs": [
    {
     "data": {
      "text/plain": [
       "array([[0.4623177 , 0.9999573 , 0.0438669 ],\n",
       "       [0.26145646, 0.99968433, 0.06965423],\n",
       "       [0.26766717, 0.9995252 , 0.09406734],\n",
       "       ...,\n",
       "       [0.28920412, 0.19152501, 0.5909601 ],\n",
       "       [0.16219757, 0.24679211, 0.6144338 ],\n",
       "       [0.14539704, 0.29869723, 0.6022797 ]], dtype=float32)"
      ]
     },
     "execution_count": 15,
     "metadata": {},
     "output_type": "execute_result"
    }
   ],
   "source": [
    "# O predict dele retorna também um vetor com 3 dimensões. Cada linha é uma observação e cada coluna é a probabilidade\n",
    "# da categoria associada a ela. Respectivamente: buy, hold e sell. É a mesma ordem que passamos nas features.\n",
    "\n",
    "results = model.predict(x_test)\n",
    "results_train = model.predict(x_train)\n",
    "\n",
    "results_train"
   ]
  },
  {
   "cell_type": "code",
   "execution_count": 16,
   "metadata": {},
   "outputs": [
    {
     "data": {
      "application/vnd.plotly.v1+json": {
       "config": {
        "plotlyServerURL": "https://plot.ly"
       },
       "data": [
        {
         "name": "train",
         "type": "scatter",
         "x": [
          0,
          1,
          2,
          3,
          4,
          5,
          6,
          7,
          8,
          9,
          10,
          11,
          12,
          13,
          14,
          15,
          16,
          17,
          18,
          19,
          20,
          21,
          22,
          23,
          24,
          25,
          26,
          27,
          28,
          29,
          30,
          31,
          32,
          33,
          34,
          35,
          36,
          37,
          38,
          39,
          40,
          41,
          42,
          43,
          44,
          45,
          46,
          47,
          48,
          49,
          50,
          51,
          52,
          53,
          54,
          55,
          56,
          57,
          58,
          59,
          60,
          61,
          62,
          63,
          64,
          65,
          66,
          67,
          68,
          69,
          70,
          71,
          72,
          73,
          74,
          75,
          76,
          77,
          78,
          79,
          80,
          81,
          82,
          83,
          84,
          85,
          86,
          87,
          88,
          89,
          90,
          91,
          92,
          93,
          94,
          95,
          96,
          97,
          98,
          99,
          100,
          101,
          102,
          103,
          104,
          105,
          106,
          107,
          108,
          109,
          110,
          111,
          112,
          113,
          114,
          115,
          116,
          117,
          118,
          119,
          120,
          121,
          122,
          123,
          124,
          125,
          126,
          127,
          128,
          129,
          130,
          131,
          132,
          133,
          134,
          135,
          136,
          137,
          138,
          139,
          140,
          141,
          142,
          143,
          144,
          145,
          146,
          147,
          148,
          149,
          150,
          151,
          152,
          153,
          154,
          155,
          156,
          157,
          158,
          159,
          160,
          161,
          162,
          163,
          164,
          165,
          166,
          167,
          168,
          169,
          170,
          171,
          172,
          173,
          174,
          175,
          176,
          177,
          178,
          179,
          180,
          181,
          182,
          183,
          184,
          185,
          186,
          187,
          188,
          189,
          190,
          191,
          192,
          193,
          194,
          195,
          196,
          197,
          198,
          199,
          200,
          201,
          202,
          203,
          204,
          205,
          206,
          207,
          208,
          209,
          210,
          211,
          212,
          213,
          214,
          215,
          216,
          217,
          218,
          219,
          220,
          221,
          222,
          223,
          224,
          225,
          226,
          227,
          228,
          229,
          230,
          231,
          232,
          233,
          234,
          235,
          236,
          237,
          238,
          239,
          240,
          241,
          242,
          243,
          244,
          245,
          246,
          247,
          248,
          249,
          250,
          251,
          252,
          253,
          254,
          255,
          256,
          257,
          258,
          259,
          260,
          261,
          262,
          263,
          264,
          265,
          266,
          267,
          268,
          269,
          270,
          271,
          272,
          273,
          274,
          275,
          276,
          277,
          278,
          279,
          280,
          281,
          282,
          283,
          284,
          285,
          286,
          287,
          288,
          289,
          290,
          291,
          292,
          293,
          294,
          295,
          296,
          297,
          298,
          299,
          300,
          301,
          302,
          303,
          304,
          305,
          306,
          307,
          308,
          309,
          310,
          311,
          312,
          313,
          314,
          315,
          316,
          317,
          318,
          319,
          320,
          321,
          322,
          323,
          324,
          325,
          326,
          327,
          328,
          329,
          330,
          331,
          332,
          333,
          334,
          335,
          336,
          337,
          338,
          339,
          340,
          341,
          342,
          343,
          344,
          345,
          346,
          347,
          348,
          349,
          350,
          351,
          352,
          353,
          354,
          355,
          356,
          357,
          358,
          359,
          360,
          361,
          362,
          363,
          364,
          365,
          366,
          367,
          368,
          369,
          370,
          371,
          372,
          373,
          374,
          375,
          376,
          377,
          378,
          379,
          380,
          381,
          382,
          383,
          384,
          385,
          386,
          387,
          388,
          389,
          390,
          391,
          392,
          393,
          394,
          395,
          396,
          397,
          398,
          399
         ],
         "y": [
          0.960183369173045,
          0.8917069957456516,
          0.8903511191445755,
          0.8901051096030471,
          0.8836056456311059,
          0.8824533384264881,
          0.8770427691724161,
          0.8749347194157181,
          0.8737981372813839,
          0.8701852569446612,
          0.8681992321524001,
          0.8661466024000832,
          0.8637412785270439,
          0.8642126476795012,
          0.8596737738480701,
          0.8627977666054063,
          0.8563521737664104,
          0.8573579418143547,
          0.8596811600313842,
          0.8603683556005851,
          0.8574344237038805,
          0.8557061910932604,
          0.8542999315201174,
          0.8527854993446486,
          0.8522326636253725,
          0.8552561799988492,
          0.8560329635028014,
          0.853081309067384,
          0.8487091261618617,
          0.8507826034956003,
          0.8520299555994475,
          0.845248339224711,
          0.8398561607183694,
          0.8466314698296952,
          0.842084896443151,
          0.8409230554680182,
          0.844526902349244,
          0.8369961036070612,
          0.8447555904776692,
          0.8352823038744259,
          0.8377466098649508,
          0.8379646476595153,
          0.8336093116352576,
          0.8357245121596727,
          0.8302005579453389,
          0.8284723320080124,
          0.8306847562013389,
          0.8329275107565727,
          0.8326518877771975,
          0.8279949245258749,
          0.8227637915514201,
          0.8283031915283688,
          0.8205723625709689,
          0.8212035878924013,
          0.8265723309140776,
          0.8341560260636812,
          0.8245630190572666,
          0.8259547601219352,
          0.8228878279982026,
          0.820647787744459,
          0.8265584650840468,
          0.8180461008736802,
          0.8205981122628423,
          0.8232732243210305,
          0.8205955263615868,
          0.8151760296057199,
          0.816741009644273,
          0.8219865387935978,
          0.8173359794167768,
          0.816694671082436,
          0.8256805465421604,
          0.8188364816379304,
          0.8118150750796,
          0.819053231426171,
          0.8201540307537594,
          0.8166994605658922,
          0.8181350194770871,
          0.8104332173750297,
          0.8173946586880672,
          0.8174136261903603,
          0.813923121651317,
          0.8199483111311158,
          0.8118264915075618,
          0.815358655507328,
          0.8072184107079154,
          0.8211090734290106,
          0.811741775016445,
          0.8153947818976929,
          0.8056774081771307,
          0.812421729182469,
          0.8132719977211407,
          0.809447510491194,
          0.812163239702317,
          0.8103473283862339,
          0.8127869681244285,
          0.8084335631996621,
          0.8093314270026811,
          0.8146616618748537,
          0.8087101710358345,
          0.8093766627724237
         ]
        },
        {
         "name": "test",
         "type": "scatter",
         "x": [
          0,
          1,
          2,
          3,
          4,
          5,
          6,
          7,
          8,
          9,
          10,
          11,
          12,
          13,
          14,
          15,
          16,
          17,
          18,
          19,
          20,
          21,
          22,
          23,
          24,
          25,
          26,
          27,
          28,
          29,
          30,
          31,
          32,
          33,
          34,
          35,
          36,
          37,
          38,
          39,
          40,
          41,
          42,
          43,
          44,
          45,
          46,
          47,
          48,
          49,
          50,
          51,
          52,
          53,
          54,
          55,
          56,
          57,
          58,
          59,
          60,
          61,
          62,
          63,
          64,
          65,
          66,
          67,
          68,
          69,
          70,
          71,
          72,
          73,
          74,
          75,
          76,
          77,
          78,
          79,
          80,
          81,
          82,
          83,
          84,
          85,
          86,
          87,
          88,
          89,
          90,
          91,
          92,
          93,
          94,
          95,
          96,
          97,
          98,
          99,
          100,
          101,
          102,
          103,
          104,
          105,
          106,
          107,
          108,
          109,
          110,
          111,
          112,
          113,
          114,
          115,
          116,
          117,
          118,
          119,
          120,
          121,
          122,
          123,
          124,
          125,
          126,
          127,
          128,
          129,
          130,
          131,
          132,
          133,
          134,
          135,
          136,
          137,
          138,
          139,
          140,
          141,
          142,
          143,
          144,
          145,
          146,
          147,
          148,
          149,
          150,
          151,
          152,
          153,
          154,
          155,
          156,
          157,
          158,
          159,
          160,
          161,
          162,
          163,
          164,
          165,
          166,
          167,
          168,
          169,
          170,
          171,
          172,
          173,
          174,
          175,
          176,
          177,
          178,
          179,
          180,
          181,
          182,
          183,
          184,
          185,
          186,
          187,
          188,
          189,
          190,
          191,
          192,
          193,
          194,
          195,
          196,
          197,
          198,
          199,
          200,
          201,
          202,
          203,
          204,
          205,
          206,
          207,
          208,
          209,
          210,
          211,
          212,
          213,
          214,
          215,
          216,
          217,
          218,
          219,
          220,
          221,
          222,
          223,
          224,
          225,
          226,
          227,
          228,
          229,
          230,
          231,
          232,
          233,
          234,
          235,
          236,
          237,
          238,
          239,
          240,
          241,
          242,
          243,
          244,
          245,
          246,
          247,
          248,
          249,
          250,
          251,
          252,
          253,
          254,
          255,
          256,
          257,
          258,
          259,
          260,
          261,
          262,
          263,
          264,
          265,
          266,
          267,
          268,
          269,
          270,
          271,
          272,
          273,
          274,
          275,
          276,
          277,
          278,
          279,
          280,
          281,
          282,
          283,
          284,
          285,
          286,
          287,
          288,
          289,
          290,
          291,
          292,
          293,
          294,
          295,
          296,
          297,
          298,
          299,
          300,
          301,
          302,
          303,
          304,
          305,
          306,
          307,
          308,
          309,
          310,
          311,
          312,
          313,
          314,
          315,
          316,
          317,
          318,
          319,
          320,
          321,
          322,
          323,
          324,
          325,
          326,
          327,
          328,
          329,
          330,
          331,
          332,
          333,
          334,
          335,
          336,
          337,
          338,
          339,
          340,
          341,
          342,
          343,
          344,
          345,
          346,
          347,
          348,
          349,
          350,
          351,
          352,
          353,
          354,
          355,
          356,
          357,
          358,
          359,
          360,
          361,
          362,
          363,
          364,
          365,
          366,
          367,
          368,
          369,
          370,
          371,
          372,
          373,
          374,
          375,
          376,
          377,
          378,
          379,
          380,
          381,
          382,
          383,
          384,
          385,
          386,
          387,
          388,
          389,
          390,
          391,
          392,
          393,
          394,
          395,
          396,
          397,
          398,
          399
         ],
         "y": [
          1.1036542988404996,
          1.0794384736355727,
          1.0898451373829106,
          1.0806369815415484,
          1.113631257196752,
          1.0892809580981246,
          1.084667623527651,
          1.0613980283582114,
          1.0402976400483914,
          1.052683531753416,
          1.0427090452938546,
          1.0563123817366313,
          1.0477811146557816,
          1.0544615644749586,
          1.0726473467136786,
          1.0584711844358987,
          1.0427680742449876,
          1.0417652721327495,
          1.043188362586789,
          1.0470872787925285,
          1.049198897873483,
          1.053486488698944,
          1.0663585846986228,
          1.055659882421416,
          1.0320907288450536,
          1.0676189893629493,
          1.048155203098204,
          1.0320505407767566,
          1.0579487259795026,
          1.0324219911079096,
          1.0394675857652493,
          1.0249834264197,
          1.0362388651545456,
          1.018137691466789,
          1.0466473315789449,
          1.0392975584278261,
          1.0388681917655758,
          1.0857712515001374,
          1.0441451586358916,
          1.0644340175923293,
          1.0516942846096629,
          1.0543949962631474,
          1.0686137133497533,
          1.0663327657110322,
          1.0885254483882005,
          1.1151029259208742,
          1.0985547575524184,
          1.0784356749154689,
          1.0760212923453105,
          1.1056491814977754,
          1.093491779110296,
          1.0880065700872157,
          1.1182148757019663,
          1.115905231576625,
          1.0985197972475997,
          1.1316084445007448,
          1.0965309773034198,
          1.111621312978791,
          1.1035819954988433,
          1.1030272526469658,
          1.1079285009120539,
          1.1179071916797296,
          1.1312393512183088,
          1.1154616528410253,
          1.1350083845417673,
          1.1499371305713808,
          1.162205314248558,
          1.1251830230883466,
          1.1266520207490378,
          1.1466331762996147,
          1.1802869017531232,
          1.1556966004332876,
          1.1461096536822435,
          1.144750080457548,
          1.1437633173252508,
          1.1341873911338123,
          1.1428116666592234,
          1.1596379037795028,
          1.1604936510566775,
          1.1348937982466163,
          1.1493482357118188,
          1.1267823475163157,
          1.158608752537549,
          1.1588891734921836,
          1.150153147495859,
          1.1373124142003253,
          1.1566419523905933,
          1.1634768703119542,
          1.15164997228762,
          1.1948674490781335,
          1.1701865671126823,
          1.1564124716006643,
          1.164835658499865,
          1.1817040995853703,
          1.1573049857364437,
          1.181357570780002,
          1.1669245803259252,
          1.2103754563060234,
          1.1841628144427043,
          1.1895597824236241
         ]
        }
       ],
       "layout": {
        "template": {
         "data": {
          "bar": [
           {
            "error_x": {
             "color": "#2a3f5f"
            },
            "error_y": {
             "color": "#2a3f5f"
            },
            "marker": {
             "line": {
              "color": "#E5ECF6",
              "width": 0.5
             }
            },
            "type": "bar"
           }
          ],
          "barpolar": [
           {
            "marker": {
             "line": {
              "color": "#E5ECF6",
              "width": 0.5
             }
            },
            "type": "barpolar"
           }
          ],
          "carpet": [
           {
            "aaxis": {
             "endlinecolor": "#2a3f5f",
             "gridcolor": "white",
             "linecolor": "white",
             "minorgridcolor": "white",
             "startlinecolor": "#2a3f5f"
            },
            "baxis": {
             "endlinecolor": "#2a3f5f",
             "gridcolor": "white",
             "linecolor": "white",
             "minorgridcolor": "white",
             "startlinecolor": "#2a3f5f"
            },
            "type": "carpet"
           }
          ],
          "choropleth": [
           {
            "colorbar": {
             "outlinewidth": 0,
             "ticks": ""
            },
            "type": "choropleth"
           }
          ],
          "contour": [
           {
            "colorbar": {
             "outlinewidth": 0,
             "ticks": ""
            },
            "colorscale": [
             [
              0,
              "#0d0887"
             ],
             [
              0.1111111111111111,
              "#46039f"
             ],
             [
              0.2222222222222222,
              "#7201a8"
             ],
             [
              0.3333333333333333,
              "#9c179e"
             ],
             [
              0.4444444444444444,
              "#bd3786"
             ],
             [
              0.5555555555555556,
              "#d8576b"
             ],
             [
              0.6666666666666666,
              "#ed7953"
             ],
             [
              0.7777777777777778,
              "#fb9f3a"
             ],
             [
              0.8888888888888888,
              "#fdca26"
             ],
             [
              1,
              "#f0f921"
             ]
            ],
            "type": "contour"
           }
          ],
          "contourcarpet": [
           {
            "colorbar": {
             "outlinewidth": 0,
             "ticks": ""
            },
            "type": "contourcarpet"
           }
          ],
          "heatmap": [
           {
            "colorbar": {
             "outlinewidth": 0,
             "ticks": ""
            },
            "colorscale": [
             [
              0,
              "#0d0887"
             ],
             [
              0.1111111111111111,
              "#46039f"
             ],
             [
              0.2222222222222222,
              "#7201a8"
             ],
             [
              0.3333333333333333,
              "#9c179e"
             ],
             [
              0.4444444444444444,
              "#bd3786"
             ],
             [
              0.5555555555555556,
              "#d8576b"
             ],
             [
              0.6666666666666666,
              "#ed7953"
             ],
             [
              0.7777777777777778,
              "#fb9f3a"
             ],
             [
              0.8888888888888888,
              "#fdca26"
             ],
             [
              1,
              "#f0f921"
             ]
            ],
            "type": "heatmap"
           }
          ],
          "heatmapgl": [
           {
            "colorbar": {
             "outlinewidth": 0,
             "ticks": ""
            },
            "colorscale": [
             [
              0,
              "#0d0887"
             ],
             [
              0.1111111111111111,
              "#46039f"
             ],
             [
              0.2222222222222222,
              "#7201a8"
             ],
             [
              0.3333333333333333,
              "#9c179e"
             ],
             [
              0.4444444444444444,
              "#bd3786"
             ],
             [
              0.5555555555555556,
              "#d8576b"
             ],
             [
              0.6666666666666666,
              "#ed7953"
             ],
             [
              0.7777777777777778,
              "#fb9f3a"
             ],
             [
              0.8888888888888888,
              "#fdca26"
             ],
             [
              1,
              "#f0f921"
             ]
            ],
            "type": "heatmapgl"
           }
          ],
          "histogram": [
           {
            "marker": {
             "colorbar": {
              "outlinewidth": 0,
              "ticks": ""
             }
            },
            "type": "histogram"
           }
          ],
          "histogram2d": [
           {
            "colorbar": {
             "outlinewidth": 0,
             "ticks": ""
            },
            "colorscale": [
             [
              0,
              "#0d0887"
             ],
             [
              0.1111111111111111,
              "#46039f"
             ],
             [
              0.2222222222222222,
              "#7201a8"
             ],
             [
              0.3333333333333333,
              "#9c179e"
             ],
             [
              0.4444444444444444,
              "#bd3786"
             ],
             [
              0.5555555555555556,
              "#d8576b"
             ],
             [
              0.6666666666666666,
              "#ed7953"
             ],
             [
              0.7777777777777778,
              "#fb9f3a"
             ],
             [
              0.8888888888888888,
              "#fdca26"
             ],
             [
              1,
              "#f0f921"
             ]
            ],
            "type": "histogram2d"
           }
          ],
          "histogram2dcontour": [
           {
            "colorbar": {
             "outlinewidth": 0,
             "ticks": ""
            },
            "colorscale": [
             [
              0,
              "#0d0887"
             ],
             [
              0.1111111111111111,
              "#46039f"
             ],
             [
              0.2222222222222222,
              "#7201a8"
             ],
             [
              0.3333333333333333,
              "#9c179e"
             ],
             [
              0.4444444444444444,
              "#bd3786"
             ],
             [
              0.5555555555555556,
              "#d8576b"
             ],
             [
              0.6666666666666666,
              "#ed7953"
             ],
             [
              0.7777777777777778,
              "#fb9f3a"
             ],
             [
              0.8888888888888888,
              "#fdca26"
             ],
             [
              1,
              "#f0f921"
             ]
            ],
            "type": "histogram2dcontour"
           }
          ],
          "mesh3d": [
           {
            "colorbar": {
             "outlinewidth": 0,
             "ticks": ""
            },
            "type": "mesh3d"
           }
          ],
          "parcoords": [
           {
            "line": {
             "colorbar": {
              "outlinewidth": 0,
              "ticks": ""
             }
            },
            "type": "parcoords"
           }
          ],
          "scatter": [
           {
            "marker": {
             "colorbar": {
              "outlinewidth": 0,
              "ticks": ""
             }
            },
            "type": "scatter"
           }
          ],
          "scatter3d": [
           {
            "line": {
             "colorbar": {
              "outlinewidth": 0,
              "ticks": ""
             }
            },
            "marker": {
             "colorbar": {
              "outlinewidth": 0,
              "ticks": ""
             }
            },
            "type": "scatter3d"
           }
          ],
          "scattercarpet": [
           {
            "marker": {
             "colorbar": {
              "outlinewidth": 0,
              "ticks": ""
             }
            },
            "type": "scattercarpet"
           }
          ],
          "scattergeo": [
           {
            "marker": {
             "colorbar": {
              "outlinewidth": 0,
              "ticks": ""
             }
            },
            "type": "scattergeo"
           }
          ],
          "scattergl": [
           {
            "marker": {
             "colorbar": {
              "outlinewidth": 0,
              "ticks": ""
             }
            },
            "type": "scattergl"
           }
          ],
          "scattermapbox": [
           {
            "marker": {
             "colorbar": {
              "outlinewidth": 0,
              "ticks": ""
             }
            },
            "type": "scattermapbox"
           }
          ],
          "scatterpolar": [
           {
            "marker": {
             "colorbar": {
              "outlinewidth": 0,
              "ticks": ""
             }
            },
            "type": "scatterpolar"
           }
          ],
          "scatterpolargl": [
           {
            "marker": {
             "colorbar": {
              "outlinewidth": 0,
              "ticks": ""
             }
            },
            "type": "scatterpolargl"
           }
          ],
          "scatterternary": [
           {
            "marker": {
             "colorbar": {
              "outlinewidth": 0,
              "ticks": ""
             }
            },
            "type": "scatterternary"
           }
          ],
          "surface": [
           {
            "colorbar": {
             "outlinewidth": 0,
             "ticks": ""
            },
            "colorscale": [
             [
              0,
              "#0d0887"
             ],
             [
              0.1111111111111111,
              "#46039f"
             ],
             [
              0.2222222222222222,
              "#7201a8"
             ],
             [
              0.3333333333333333,
              "#9c179e"
             ],
             [
              0.4444444444444444,
              "#bd3786"
             ],
             [
              0.5555555555555556,
              "#d8576b"
             ],
             [
              0.6666666666666666,
              "#ed7953"
             ],
             [
              0.7777777777777778,
              "#fb9f3a"
             ],
             [
              0.8888888888888888,
              "#fdca26"
             ],
             [
              1,
              "#f0f921"
             ]
            ],
            "type": "surface"
           }
          ],
          "table": [
           {
            "cells": {
             "fill": {
              "color": "#EBF0F8"
             },
             "line": {
              "color": "white"
             }
            },
            "header": {
             "fill": {
              "color": "#C8D4E3"
             },
             "line": {
              "color": "white"
             }
            },
            "type": "table"
           }
          ]
         },
         "layout": {
          "annotationdefaults": {
           "arrowcolor": "#2a3f5f",
           "arrowhead": 0,
           "arrowwidth": 1
          },
          "colorscale": {
           "diverging": [
            [
             0,
             "#8e0152"
            ],
            [
             0.1,
             "#c51b7d"
            ],
            [
             0.2,
             "#de77ae"
            ],
            [
             0.3,
             "#f1b6da"
            ],
            [
             0.4,
             "#fde0ef"
            ],
            [
             0.5,
             "#f7f7f7"
            ],
            [
             0.6,
             "#e6f5d0"
            ],
            [
             0.7,
             "#b8e186"
            ],
            [
             0.8,
             "#7fbc41"
            ],
            [
             0.9,
             "#4d9221"
            ],
            [
             1,
             "#276419"
            ]
           ],
           "sequential": [
            [
             0,
             "#0d0887"
            ],
            [
             0.1111111111111111,
             "#46039f"
            ],
            [
             0.2222222222222222,
             "#7201a8"
            ],
            [
             0.3333333333333333,
             "#9c179e"
            ],
            [
             0.4444444444444444,
             "#bd3786"
            ],
            [
             0.5555555555555556,
             "#d8576b"
            ],
            [
             0.6666666666666666,
             "#ed7953"
            ],
            [
             0.7777777777777778,
             "#fb9f3a"
            ],
            [
             0.8888888888888888,
             "#fdca26"
            ],
            [
             1,
             "#f0f921"
            ]
           ],
           "sequentialminus": [
            [
             0,
             "#0d0887"
            ],
            [
             0.1111111111111111,
             "#46039f"
            ],
            [
             0.2222222222222222,
             "#7201a8"
            ],
            [
             0.3333333333333333,
             "#9c179e"
            ],
            [
             0.4444444444444444,
             "#bd3786"
            ],
            [
             0.5555555555555556,
             "#d8576b"
            ],
            [
             0.6666666666666666,
             "#ed7953"
            ],
            [
             0.7777777777777778,
             "#fb9f3a"
            ],
            [
             0.8888888888888888,
             "#fdca26"
            ],
            [
             1,
             "#f0f921"
            ]
           ]
          },
          "colorway": [
           "#636efa",
           "#EF553B",
           "#00cc96",
           "#ab63fa",
           "#FFA15A",
           "#19d3f3",
           "#FF6692",
           "#B6E880",
           "#FF97FF",
           "#FECB52"
          ],
          "font": {
           "color": "#2a3f5f"
          },
          "geo": {
           "bgcolor": "white",
           "lakecolor": "white",
           "landcolor": "#E5ECF6",
           "showlakes": true,
           "showland": true,
           "subunitcolor": "white"
          },
          "hoverlabel": {
           "align": "left"
          },
          "hovermode": "closest",
          "mapbox": {
           "style": "light"
          },
          "paper_bgcolor": "white",
          "plot_bgcolor": "#E5ECF6",
          "polar": {
           "angularaxis": {
            "gridcolor": "white",
            "linecolor": "white",
            "ticks": ""
           },
           "bgcolor": "#E5ECF6",
           "radialaxis": {
            "gridcolor": "white",
            "linecolor": "white",
            "ticks": ""
           }
          },
          "scene": {
           "xaxis": {
            "backgroundcolor": "#E5ECF6",
            "gridcolor": "white",
            "gridwidth": 2,
            "linecolor": "white",
            "showbackground": true,
            "ticks": "",
            "zerolinecolor": "white"
           },
           "yaxis": {
            "backgroundcolor": "#E5ECF6",
            "gridcolor": "white",
            "gridwidth": 2,
            "linecolor": "white",
            "showbackground": true,
            "ticks": "",
            "zerolinecolor": "white"
           },
           "zaxis": {
            "backgroundcolor": "#E5ECF6",
            "gridcolor": "white",
            "gridwidth": 2,
            "linecolor": "white",
            "showbackground": true,
            "ticks": "",
            "zerolinecolor": "white"
           }
          },
          "shapedefaults": {
           "line": {
            "color": "#2a3f5f"
           }
          },
          "ternary": {
           "aaxis": {
            "gridcolor": "white",
            "linecolor": "white",
            "ticks": ""
           },
           "baxis": {
            "gridcolor": "white",
            "linecolor": "white",
            "ticks": ""
           },
           "bgcolor": "#E5ECF6",
           "caxis": {
            "gridcolor": "white",
            "linecolor": "white",
            "ticks": ""
           }
          },
          "title": {
           "x": 0.05
          },
          "xaxis": {
           "automargin": true,
           "gridcolor": "white",
           "linecolor": "white",
           "ticks": "",
           "zerolinecolor": "white",
           "zerolinewidth": 2
          },
          "yaxis": {
           "automargin": true,
           "gridcolor": "white",
           "linecolor": "white",
           "ticks": "",
           "zerolinecolor": "white",
           "zerolinewidth": 2
          }
         }
        },
        "title": {
         "text": "<b> Função custo ao longo do treino </b>"
        },
        "xaxis": {
         "title": {
          "text": "Épocas"
         }
        }
       }
      },
      "text/html": [
       "<div>\n",
       "        \n",
       "        \n",
       "            <div id=\"7cb683d7-7675-42ee-9a89-44af83d6c2f5\" class=\"plotly-graph-div\" style=\"height:525px; width:100%;\"></div>\n",
       "            <script type=\"text/javascript\">\n",
       "                require([\"plotly\"], function(Plotly) {\n",
       "                    window.PLOTLYENV=window.PLOTLYENV || {};\n",
       "                    \n",
       "                if (document.getElementById(\"7cb683d7-7675-42ee-9a89-44af83d6c2f5\")) {\n",
       "                    Plotly.newPlot(\n",
       "                        '7cb683d7-7675-42ee-9a89-44af83d6c2f5',\n",
       "                        [{\"name\": \"train\", \"type\": \"scatter\", \"x\": [0, 1, 2, 3, 4, 5, 6, 7, 8, 9, 10, 11, 12, 13, 14, 15, 16, 17, 18, 19, 20, 21, 22, 23, 24, 25, 26, 27, 28, 29, 30, 31, 32, 33, 34, 35, 36, 37, 38, 39, 40, 41, 42, 43, 44, 45, 46, 47, 48, 49, 50, 51, 52, 53, 54, 55, 56, 57, 58, 59, 60, 61, 62, 63, 64, 65, 66, 67, 68, 69, 70, 71, 72, 73, 74, 75, 76, 77, 78, 79, 80, 81, 82, 83, 84, 85, 86, 87, 88, 89, 90, 91, 92, 93, 94, 95, 96, 97, 98, 99, 100, 101, 102, 103, 104, 105, 106, 107, 108, 109, 110, 111, 112, 113, 114, 115, 116, 117, 118, 119, 120, 121, 122, 123, 124, 125, 126, 127, 128, 129, 130, 131, 132, 133, 134, 135, 136, 137, 138, 139, 140, 141, 142, 143, 144, 145, 146, 147, 148, 149, 150, 151, 152, 153, 154, 155, 156, 157, 158, 159, 160, 161, 162, 163, 164, 165, 166, 167, 168, 169, 170, 171, 172, 173, 174, 175, 176, 177, 178, 179, 180, 181, 182, 183, 184, 185, 186, 187, 188, 189, 190, 191, 192, 193, 194, 195, 196, 197, 198, 199, 200, 201, 202, 203, 204, 205, 206, 207, 208, 209, 210, 211, 212, 213, 214, 215, 216, 217, 218, 219, 220, 221, 222, 223, 224, 225, 226, 227, 228, 229, 230, 231, 232, 233, 234, 235, 236, 237, 238, 239, 240, 241, 242, 243, 244, 245, 246, 247, 248, 249, 250, 251, 252, 253, 254, 255, 256, 257, 258, 259, 260, 261, 262, 263, 264, 265, 266, 267, 268, 269, 270, 271, 272, 273, 274, 275, 276, 277, 278, 279, 280, 281, 282, 283, 284, 285, 286, 287, 288, 289, 290, 291, 292, 293, 294, 295, 296, 297, 298, 299, 300, 301, 302, 303, 304, 305, 306, 307, 308, 309, 310, 311, 312, 313, 314, 315, 316, 317, 318, 319, 320, 321, 322, 323, 324, 325, 326, 327, 328, 329, 330, 331, 332, 333, 334, 335, 336, 337, 338, 339, 340, 341, 342, 343, 344, 345, 346, 347, 348, 349, 350, 351, 352, 353, 354, 355, 356, 357, 358, 359, 360, 361, 362, 363, 364, 365, 366, 367, 368, 369, 370, 371, 372, 373, 374, 375, 376, 377, 378, 379, 380, 381, 382, 383, 384, 385, 386, 387, 388, 389, 390, 391, 392, 393, 394, 395, 396, 397, 398, 399], \"y\": [0.960183369173045, 0.8917069957456516, 0.8903511191445755, 0.8901051096030471, 0.8836056456311059, 0.8824533384264881, 0.8770427691724161, 0.8749347194157181, 0.8737981372813839, 0.8701852569446612, 0.8681992321524001, 0.8661466024000832, 0.8637412785270439, 0.8642126476795012, 0.8596737738480701, 0.8627977666054063, 0.8563521737664104, 0.8573579418143547, 0.8596811600313842, 0.8603683556005851, 0.8574344237038805, 0.8557061910932604, 0.8542999315201174, 0.8527854993446486, 0.8522326636253725, 0.8552561799988492, 0.8560329635028014, 0.853081309067384, 0.8487091261618617, 0.8507826034956003, 0.8520299555994475, 0.845248339224711, 0.8398561607183694, 0.8466314698296952, 0.842084896443151, 0.8409230554680182, 0.844526902349244, 0.8369961036070612, 0.8447555904776692, 0.8352823038744259, 0.8377466098649508, 0.8379646476595153, 0.8336093116352576, 0.8357245121596727, 0.8302005579453389, 0.8284723320080124, 0.8306847562013389, 0.8329275107565727, 0.8326518877771975, 0.8279949245258749, 0.8227637915514201, 0.8283031915283688, 0.8205723625709689, 0.8212035878924013, 0.8265723309140776, 0.8341560260636812, 0.8245630190572666, 0.8259547601219352, 0.8228878279982026, 0.820647787744459, 0.8265584650840468, 0.8180461008736802, 0.8205981122628423, 0.8232732243210305, 0.8205955263615868, 0.8151760296057199, 0.816741009644273, 0.8219865387935978, 0.8173359794167768, 0.816694671082436, 0.8256805465421604, 0.8188364816379304, 0.8118150750796, 0.819053231426171, 0.8201540307537594, 0.8166994605658922, 0.8181350194770871, 0.8104332173750297, 0.8173946586880672, 0.8174136261903603, 0.813923121651317, 0.8199483111311158, 0.8118264915075618, 0.815358655507328, 0.8072184107079154, 0.8211090734290106, 0.811741775016445, 0.8153947818976929, 0.8056774081771307, 0.812421729182469, 0.8132719977211407, 0.809447510491194, 0.812163239702317, 0.8103473283862339, 0.8127869681244285, 0.8084335631996621, 0.8093314270026811, 0.8146616618748537, 0.8087101710358345, 0.8093766627724237]}, {\"name\": \"test\", \"type\": \"scatter\", \"x\": [0, 1, 2, 3, 4, 5, 6, 7, 8, 9, 10, 11, 12, 13, 14, 15, 16, 17, 18, 19, 20, 21, 22, 23, 24, 25, 26, 27, 28, 29, 30, 31, 32, 33, 34, 35, 36, 37, 38, 39, 40, 41, 42, 43, 44, 45, 46, 47, 48, 49, 50, 51, 52, 53, 54, 55, 56, 57, 58, 59, 60, 61, 62, 63, 64, 65, 66, 67, 68, 69, 70, 71, 72, 73, 74, 75, 76, 77, 78, 79, 80, 81, 82, 83, 84, 85, 86, 87, 88, 89, 90, 91, 92, 93, 94, 95, 96, 97, 98, 99, 100, 101, 102, 103, 104, 105, 106, 107, 108, 109, 110, 111, 112, 113, 114, 115, 116, 117, 118, 119, 120, 121, 122, 123, 124, 125, 126, 127, 128, 129, 130, 131, 132, 133, 134, 135, 136, 137, 138, 139, 140, 141, 142, 143, 144, 145, 146, 147, 148, 149, 150, 151, 152, 153, 154, 155, 156, 157, 158, 159, 160, 161, 162, 163, 164, 165, 166, 167, 168, 169, 170, 171, 172, 173, 174, 175, 176, 177, 178, 179, 180, 181, 182, 183, 184, 185, 186, 187, 188, 189, 190, 191, 192, 193, 194, 195, 196, 197, 198, 199, 200, 201, 202, 203, 204, 205, 206, 207, 208, 209, 210, 211, 212, 213, 214, 215, 216, 217, 218, 219, 220, 221, 222, 223, 224, 225, 226, 227, 228, 229, 230, 231, 232, 233, 234, 235, 236, 237, 238, 239, 240, 241, 242, 243, 244, 245, 246, 247, 248, 249, 250, 251, 252, 253, 254, 255, 256, 257, 258, 259, 260, 261, 262, 263, 264, 265, 266, 267, 268, 269, 270, 271, 272, 273, 274, 275, 276, 277, 278, 279, 280, 281, 282, 283, 284, 285, 286, 287, 288, 289, 290, 291, 292, 293, 294, 295, 296, 297, 298, 299, 300, 301, 302, 303, 304, 305, 306, 307, 308, 309, 310, 311, 312, 313, 314, 315, 316, 317, 318, 319, 320, 321, 322, 323, 324, 325, 326, 327, 328, 329, 330, 331, 332, 333, 334, 335, 336, 337, 338, 339, 340, 341, 342, 343, 344, 345, 346, 347, 348, 349, 350, 351, 352, 353, 354, 355, 356, 357, 358, 359, 360, 361, 362, 363, 364, 365, 366, 367, 368, 369, 370, 371, 372, 373, 374, 375, 376, 377, 378, 379, 380, 381, 382, 383, 384, 385, 386, 387, 388, 389, 390, 391, 392, 393, 394, 395, 396, 397, 398, 399], \"y\": [1.1036542988404996, 1.0794384736355727, 1.0898451373829106, 1.0806369815415484, 1.113631257196752, 1.0892809580981246, 1.084667623527651, 1.0613980283582114, 1.0402976400483914, 1.052683531753416, 1.0427090452938546, 1.0563123817366313, 1.0477811146557816, 1.0544615644749586, 1.0726473467136786, 1.0584711844358987, 1.0427680742449876, 1.0417652721327495, 1.043188362586789, 1.0470872787925285, 1.049198897873483, 1.053486488698944, 1.0663585846986228, 1.055659882421416, 1.0320907288450536, 1.0676189893629493, 1.048155203098204, 1.0320505407767566, 1.0579487259795026, 1.0324219911079096, 1.0394675857652493, 1.0249834264197, 1.0362388651545456, 1.018137691466789, 1.0466473315789449, 1.0392975584278261, 1.0388681917655758, 1.0857712515001374, 1.0441451586358916, 1.0644340175923293, 1.0516942846096629, 1.0543949962631474, 1.0686137133497533, 1.0663327657110322, 1.0885254483882005, 1.1151029259208742, 1.0985547575524184, 1.0784356749154689, 1.0760212923453105, 1.1056491814977754, 1.093491779110296, 1.0880065700872157, 1.1182148757019663, 1.115905231576625, 1.0985197972475997, 1.1316084445007448, 1.0965309773034198, 1.111621312978791, 1.1035819954988433, 1.1030272526469658, 1.1079285009120539, 1.1179071916797296, 1.1312393512183088, 1.1154616528410253, 1.1350083845417673, 1.1499371305713808, 1.162205314248558, 1.1251830230883466, 1.1266520207490378, 1.1466331762996147, 1.1802869017531232, 1.1556966004332876, 1.1461096536822435, 1.144750080457548, 1.1437633173252508, 1.1341873911338123, 1.1428116666592234, 1.1596379037795028, 1.1604936510566775, 1.1348937982466163, 1.1493482357118188, 1.1267823475163157, 1.158608752537549, 1.1588891734921836, 1.150153147495859, 1.1373124142003253, 1.1566419523905933, 1.1634768703119542, 1.15164997228762, 1.1948674490781335, 1.1701865671126823, 1.1564124716006643, 1.164835658499865, 1.1817040995853703, 1.1573049857364437, 1.181357570780002, 1.1669245803259252, 1.2103754563060234, 1.1841628144427043, 1.1895597824236241]}],\n",
       "                        {\"template\": {\"data\": {\"bar\": [{\"error_x\": {\"color\": \"#2a3f5f\"}, \"error_y\": {\"color\": \"#2a3f5f\"}, \"marker\": {\"line\": {\"color\": \"#E5ECF6\", \"width\": 0.5}}, \"type\": \"bar\"}], \"barpolar\": [{\"marker\": {\"line\": {\"color\": \"#E5ECF6\", \"width\": 0.5}}, \"type\": \"barpolar\"}], \"carpet\": [{\"aaxis\": {\"endlinecolor\": \"#2a3f5f\", \"gridcolor\": \"white\", \"linecolor\": \"white\", \"minorgridcolor\": \"white\", \"startlinecolor\": \"#2a3f5f\"}, \"baxis\": {\"endlinecolor\": \"#2a3f5f\", \"gridcolor\": \"white\", \"linecolor\": \"white\", \"minorgridcolor\": \"white\", \"startlinecolor\": \"#2a3f5f\"}, \"type\": \"carpet\"}], \"choropleth\": [{\"colorbar\": {\"outlinewidth\": 0, \"ticks\": \"\"}, \"type\": \"choropleth\"}], \"contour\": [{\"colorbar\": {\"outlinewidth\": 0, \"ticks\": \"\"}, \"colorscale\": [[0.0, \"#0d0887\"], [0.1111111111111111, \"#46039f\"], [0.2222222222222222, \"#7201a8\"], [0.3333333333333333, \"#9c179e\"], [0.4444444444444444, \"#bd3786\"], [0.5555555555555556, \"#d8576b\"], [0.6666666666666666, \"#ed7953\"], [0.7777777777777778, \"#fb9f3a\"], [0.8888888888888888, \"#fdca26\"], [1.0, \"#f0f921\"]], \"type\": \"contour\"}], \"contourcarpet\": [{\"colorbar\": {\"outlinewidth\": 0, \"ticks\": \"\"}, \"type\": \"contourcarpet\"}], \"heatmap\": [{\"colorbar\": {\"outlinewidth\": 0, \"ticks\": \"\"}, \"colorscale\": [[0.0, \"#0d0887\"], [0.1111111111111111, \"#46039f\"], [0.2222222222222222, \"#7201a8\"], [0.3333333333333333, \"#9c179e\"], [0.4444444444444444, \"#bd3786\"], [0.5555555555555556, \"#d8576b\"], [0.6666666666666666, \"#ed7953\"], [0.7777777777777778, \"#fb9f3a\"], [0.8888888888888888, \"#fdca26\"], [1.0, \"#f0f921\"]], \"type\": \"heatmap\"}], \"heatmapgl\": [{\"colorbar\": {\"outlinewidth\": 0, \"ticks\": \"\"}, \"colorscale\": [[0.0, \"#0d0887\"], [0.1111111111111111, \"#46039f\"], [0.2222222222222222, \"#7201a8\"], [0.3333333333333333, \"#9c179e\"], [0.4444444444444444, \"#bd3786\"], [0.5555555555555556, \"#d8576b\"], [0.6666666666666666, \"#ed7953\"], [0.7777777777777778, \"#fb9f3a\"], [0.8888888888888888, \"#fdca26\"], [1.0, \"#f0f921\"]], \"type\": \"heatmapgl\"}], \"histogram\": [{\"marker\": {\"colorbar\": {\"outlinewidth\": 0, \"ticks\": \"\"}}, \"type\": \"histogram\"}], \"histogram2d\": [{\"colorbar\": {\"outlinewidth\": 0, \"ticks\": \"\"}, \"colorscale\": [[0.0, \"#0d0887\"], [0.1111111111111111, \"#46039f\"], [0.2222222222222222, \"#7201a8\"], [0.3333333333333333, \"#9c179e\"], [0.4444444444444444, \"#bd3786\"], [0.5555555555555556, \"#d8576b\"], [0.6666666666666666, \"#ed7953\"], [0.7777777777777778, \"#fb9f3a\"], [0.8888888888888888, \"#fdca26\"], [1.0, \"#f0f921\"]], \"type\": \"histogram2d\"}], \"histogram2dcontour\": [{\"colorbar\": {\"outlinewidth\": 0, \"ticks\": \"\"}, \"colorscale\": [[0.0, \"#0d0887\"], [0.1111111111111111, \"#46039f\"], [0.2222222222222222, \"#7201a8\"], [0.3333333333333333, \"#9c179e\"], [0.4444444444444444, \"#bd3786\"], [0.5555555555555556, \"#d8576b\"], [0.6666666666666666, \"#ed7953\"], [0.7777777777777778, \"#fb9f3a\"], [0.8888888888888888, \"#fdca26\"], [1.0, \"#f0f921\"]], \"type\": \"histogram2dcontour\"}], \"mesh3d\": [{\"colorbar\": {\"outlinewidth\": 0, \"ticks\": \"\"}, \"type\": \"mesh3d\"}], \"parcoords\": [{\"line\": {\"colorbar\": {\"outlinewidth\": 0, \"ticks\": \"\"}}, \"type\": \"parcoords\"}], \"scatter\": [{\"marker\": {\"colorbar\": {\"outlinewidth\": 0, \"ticks\": \"\"}}, \"type\": \"scatter\"}], \"scatter3d\": [{\"line\": {\"colorbar\": {\"outlinewidth\": 0, \"ticks\": \"\"}}, \"marker\": {\"colorbar\": {\"outlinewidth\": 0, \"ticks\": \"\"}}, \"type\": \"scatter3d\"}], \"scattercarpet\": [{\"marker\": {\"colorbar\": {\"outlinewidth\": 0, \"ticks\": \"\"}}, \"type\": \"scattercarpet\"}], \"scattergeo\": [{\"marker\": {\"colorbar\": {\"outlinewidth\": 0, \"ticks\": \"\"}}, \"type\": \"scattergeo\"}], \"scattergl\": [{\"marker\": {\"colorbar\": {\"outlinewidth\": 0, \"ticks\": \"\"}}, \"type\": \"scattergl\"}], \"scattermapbox\": [{\"marker\": {\"colorbar\": {\"outlinewidth\": 0, \"ticks\": \"\"}}, \"type\": \"scattermapbox\"}], \"scatterpolar\": [{\"marker\": {\"colorbar\": {\"outlinewidth\": 0, \"ticks\": \"\"}}, \"type\": \"scatterpolar\"}], \"scatterpolargl\": [{\"marker\": {\"colorbar\": {\"outlinewidth\": 0, \"ticks\": \"\"}}, \"type\": \"scatterpolargl\"}], \"scatterternary\": [{\"marker\": {\"colorbar\": {\"outlinewidth\": 0, \"ticks\": \"\"}}, \"type\": \"scatterternary\"}], \"surface\": [{\"colorbar\": {\"outlinewidth\": 0, \"ticks\": \"\"}, \"colorscale\": [[0.0, \"#0d0887\"], [0.1111111111111111, \"#46039f\"], [0.2222222222222222, \"#7201a8\"], [0.3333333333333333, \"#9c179e\"], [0.4444444444444444, \"#bd3786\"], [0.5555555555555556, \"#d8576b\"], [0.6666666666666666, \"#ed7953\"], [0.7777777777777778, \"#fb9f3a\"], [0.8888888888888888, \"#fdca26\"], [1.0, \"#f0f921\"]], \"type\": \"surface\"}], \"table\": [{\"cells\": {\"fill\": {\"color\": \"#EBF0F8\"}, \"line\": {\"color\": \"white\"}}, \"header\": {\"fill\": {\"color\": \"#C8D4E3\"}, \"line\": {\"color\": \"white\"}}, \"type\": \"table\"}]}, \"layout\": {\"annotationdefaults\": {\"arrowcolor\": \"#2a3f5f\", \"arrowhead\": 0, \"arrowwidth\": 1}, \"colorscale\": {\"diverging\": [[0, \"#8e0152\"], [0.1, \"#c51b7d\"], [0.2, \"#de77ae\"], [0.3, \"#f1b6da\"], [0.4, \"#fde0ef\"], [0.5, \"#f7f7f7\"], [0.6, \"#e6f5d0\"], [0.7, \"#b8e186\"], [0.8, \"#7fbc41\"], [0.9, \"#4d9221\"], [1, \"#276419\"]], \"sequential\": [[0.0, \"#0d0887\"], [0.1111111111111111, \"#46039f\"], [0.2222222222222222, \"#7201a8\"], [0.3333333333333333, \"#9c179e\"], [0.4444444444444444, \"#bd3786\"], [0.5555555555555556, \"#d8576b\"], [0.6666666666666666, \"#ed7953\"], [0.7777777777777778, \"#fb9f3a\"], [0.8888888888888888, \"#fdca26\"], [1.0, \"#f0f921\"]], \"sequentialminus\": [[0.0, \"#0d0887\"], [0.1111111111111111, \"#46039f\"], [0.2222222222222222, \"#7201a8\"], [0.3333333333333333, \"#9c179e\"], [0.4444444444444444, \"#bd3786\"], [0.5555555555555556, \"#d8576b\"], [0.6666666666666666, \"#ed7953\"], [0.7777777777777778, \"#fb9f3a\"], [0.8888888888888888, \"#fdca26\"], [1.0, \"#f0f921\"]]}, \"colorway\": [\"#636efa\", \"#EF553B\", \"#00cc96\", \"#ab63fa\", \"#FFA15A\", \"#19d3f3\", \"#FF6692\", \"#B6E880\", \"#FF97FF\", \"#FECB52\"], \"font\": {\"color\": \"#2a3f5f\"}, \"geo\": {\"bgcolor\": \"white\", \"lakecolor\": \"white\", \"landcolor\": \"#E5ECF6\", \"showlakes\": true, \"showland\": true, \"subunitcolor\": \"white\"}, \"hoverlabel\": {\"align\": \"left\"}, \"hovermode\": \"closest\", \"mapbox\": {\"style\": \"light\"}, \"paper_bgcolor\": \"white\", \"plot_bgcolor\": \"#E5ECF6\", \"polar\": {\"angularaxis\": {\"gridcolor\": \"white\", \"linecolor\": \"white\", \"ticks\": \"\"}, \"bgcolor\": \"#E5ECF6\", \"radialaxis\": {\"gridcolor\": \"white\", \"linecolor\": \"white\", \"ticks\": \"\"}}, \"scene\": {\"xaxis\": {\"backgroundcolor\": \"#E5ECF6\", \"gridcolor\": \"white\", \"gridwidth\": 2, \"linecolor\": \"white\", \"showbackground\": true, \"ticks\": \"\", \"zerolinecolor\": \"white\"}, \"yaxis\": {\"backgroundcolor\": \"#E5ECF6\", \"gridcolor\": \"white\", \"gridwidth\": 2, \"linecolor\": \"white\", \"showbackground\": true, \"ticks\": \"\", \"zerolinecolor\": \"white\"}, \"zaxis\": {\"backgroundcolor\": \"#E5ECF6\", \"gridcolor\": \"white\", \"gridwidth\": 2, \"linecolor\": \"white\", \"showbackground\": true, \"ticks\": \"\", \"zerolinecolor\": \"white\"}}, \"shapedefaults\": {\"line\": {\"color\": \"#2a3f5f\"}}, \"ternary\": {\"aaxis\": {\"gridcolor\": \"white\", \"linecolor\": \"white\", \"ticks\": \"\"}, \"baxis\": {\"gridcolor\": \"white\", \"linecolor\": \"white\", \"ticks\": \"\"}, \"bgcolor\": \"#E5ECF6\", \"caxis\": {\"gridcolor\": \"white\", \"linecolor\": \"white\", \"ticks\": \"\"}}, \"title\": {\"x\": 0.05}, \"xaxis\": {\"automargin\": true, \"gridcolor\": \"white\", \"linecolor\": \"white\", \"ticks\": \"\", \"zerolinecolor\": \"white\", \"zerolinewidth\": 2}, \"yaxis\": {\"automargin\": true, \"gridcolor\": \"white\", \"linecolor\": \"white\", \"ticks\": \"\", \"zerolinecolor\": \"white\", \"zerolinewidth\": 2}}}, \"title\": {\"text\": \"<b> Fun\\u00e7\\u00e3o custo ao longo do treino </b>\"}, \"xaxis\": {\"title\": {\"text\": \"\\u00c9pocas\"}}},\n",
       "                        {\"responsive\": true}\n",
       "                    ).then(function(){\n",
       "                            \n",
       "var gd = document.getElementById('7cb683d7-7675-42ee-9a89-44af83d6c2f5');\n",
       "var x = new MutationObserver(function (mutations, observer) {{\n",
       "        var display = window.getComputedStyle(gd).display;\n",
       "        if (!display || display === 'none') {{\n",
       "            console.log([gd, 'removed!']);\n",
       "            Plotly.purge(gd);\n",
       "            observer.disconnect();\n",
       "        }}\n",
       "}});\n",
       "\n",
       "// Listen for the removal of the full notebook cells\n",
       "var notebookContainer = gd.closest('#notebook-container');\n",
       "if (notebookContainer) {{\n",
       "    x.observe(notebookContainer, {childList: true});\n",
       "}}\n",
       "\n",
       "// Listen for the clearing of the current output cell\n",
       "var outputEl = gd.closest('.output');\n",
       "if (outputEl) {{\n",
       "    x.observe(outputEl, {childList: true});\n",
       "}}\n",
       "\n",
       "                        })\n",
       "                };\n",
       "                });\n",
       "            </script>\n",
       "        </div>"
      ]
     },
     "metadata": {},
     "output_type": "display_data"
    }
   ],
   "source": [
    "fig = go.Figure()\n",
    "\n",
    "fig.add_trace(go.Scatter(x = np.array(range(400)), y=history.history['loss'], name='train'))\n",
    "fig.add_trace(go.Scatter(x = np.array(range(400)), y=history.history['val_loss'], name='test'))\n",
    "fig.update_layout(title='<b> Função custo ao longo do treino </b>')\n",
    "fig.update_xaxes(title_text='Épocas')\n",
    "fig.show()"
   ]
  },
  {
   "cell_type": "code",
   "execution_count": 17,
   "metadata": {},
   "outputs": [
    {
     "data": {
      "application/vnd.plotly.v1+json": {
       "config": {
        "plotlyServerURL": "https://plot.ly"
       },
       "data": [
        {
         "name": "train",
         "type": "scatter",
         "x": [
          0,
          1,
          2,
          3,
          4,
          5,
          6,
          7,
          8,
          9,
          10,
          11,
          12,
          13,
          14,
          15,
          16,
          17,
          18,
          19,
          20,
          21,
          22,
          23,
          24,
          25,
          26,
          27,
          28,
          29,
          30,
          31,
          32,
          33,
          34,
          35,
          36,
          37,
          38,
          39,
          40,
          41,
          42,
          43,
          44,
          45,
          46,
          47,
          48,
          49,
          50,
          51,
          52,
          53,
          54,
          55,
          56,
          57,
          58,
          59,
          60,
          61,
          62,
          63,
          64,
          65,
          66,
          67,
          68,
          69,
          70,
          71,
          72,
          73,
          74,
          75,
          76,
          77,
          78,
          79,
          80,
          81,
          82,
          83,
          84,
          85,
          86,
          87,
          88,
          89,
          90,
          91,
          92,
          93,
          94,
          95,
          96,
          97,
          98,
          99,
          100,
          101,
          102,
          103,
          104,
          105,
          106,
          107,
          108,
          109,
          110,
          111,
          112,
          113,
          114,
          115,
          116,
          117,
          118,
          119,
          120,
          121,
          122,
          123,
          124,
          125,
          126,
          127,
          128,
          129,
          130,
          131,
          132,
          133,
          134,
          135,
          136,
          137,
          138,
          139,
          140,
          141,
          142,
          143,
          144,
          145,
          146,
          147,
          148,
          149,
          150,
          151,
          152,
          153,
          154,
          155,
          156,
          157,
          158,
          159,
          160,
          161,
          162,
          163,
          164,
          165,
          166,
          167,
          168,
          169,
          170,
          171,
          172,
          173,
          174,
          175,
          176,
          177,
          178,
          179,
          180,
          181,
          182,
          183,
          184,
          185,
          186,
          187,
          188,
          189,
          190,
          191,
          192,
          193,
          194,
          195,
          196,
          197,
          198,
          199,
          200,
          201,
          202,
          203,
          204,
          205,
          206,
          207,
          208,
          209,
          210,
          211,
          212,
          213,
          214,
          215,
          216,
          217,
          218,
          219,
          220,
          221,
          222,
          223,
          224,
          225,
          226,
          227,
          228,
          229,
          230,
          231,
          232,
          233,
          234,
          235,
          236,
          237,
          238,
          239,
          240,
          241,
          242,
          243,
          244,
          245,
          246,
          247,
          248,
          249,
          250,
          251,
          252,
          253,
          254,
          255,
          256,
          257,
          258,
          259,
          260,
          261,
          262,
          263,
          264,
          265,
          266,
          267,
          268,
          269,
          270,
          271,
          272,
          273,
          274,
          275,
          276,
          277,
          278,
          279,
          280,
          281,
          282,
          283,
          284,
          285,
          286,
          287,
          288,
          289,
          290,
          291,
          292,
          293,
          294,
          295,
          296,
          297,
          298,
          299,
          300,
          301,
          302,
          303,
          304,
          305,
          306,
          307,
          308,
          309,
          310,
          311,
          312,
          313,
          314,
          315,
          316,
          317,
          318,
          319,
          320,
          321,
          322,
          323,
          324,
          325,
          326,
          327,
          328,
          329,
          330,
          331,
          332,
          333,
          334,
          335,
          336,
          337,
          338,
          339,
          340,
          341,
          342,
          343,
          344,
          345,
          346,
          347,
          348,
          349,
          350,
          351,
          352,
          353,
          354,
          355,
          356,
          357,
          358,
          359,
          360,
          361,
          362,
          363,
          364,
          365,
          366,
          367,
          368,
          369,
          370,
          371,
          372,
          373,
          374,
          375,
          376,
          377,
          378,
          379,
          380,
          381,
          382,
          383,
          384,
          385,
          386,
          387,
          388,
          389,
          390,
          391,
          392,
          393,
          394,
          395,
          396,
          397,
          398,
          399
         ],
         "y": [
          0.6213740458925262,
          0.6249363867836144,
          0.6249363868594473,
          0.6249363869504467,
          0.6249363868897805,
          0.6249363869504467,
          0.6249363869504467,
          0.6244274809615302,
          0.6234096692263625,
          0.6279898220346174,
          0.6274809161215338,
          0.6264631044166992,
          0.6300254454139534,
          0.6335877863808745,
          0.6315521630015385,
          0.6279898218981183,
          0.6320610687629564,
          0.6310432570126221,
          0.6320610688236227,
          0.6320610688539559,
          0.6290076337697852,
          0.6284987278263684,
          0.627480916151867,
          0.6330788805587905,
          0.6320610688236227,
          0.6325699747063731,
          0.6305343513270371,
          0.6325699747367063,
          0.6340966921726255,
          0.6386768449050476,
          0.6335877862595419,
          0.6315521628802059,
          0.637659033094047,
          0.6407124683147168,
          0.6356234097905438,
          0.6417302799133854,
          0.6366412214953784,
          0.6361323156732943,
          0.6402035623561335,
          0.6422391859023019,
          0.6402035624622995,
          0.6402035624016332,
          0.6346055980098764,
          0.6335877863808745,
          0.6437659034595538,
          0.6432569976071365,
          0.638676844965714,
          0.6417302800195515,
          0.6386768449353808,
          0.6432569975464701,
          0.6417302799892183,
          0.6417302800195515,
          0.6442748093119711,
          0.6437659033533878,
          0.6402035624319664,
          0.6427480917243861,
          0.639694656579549,
          0.6371501273174626,
          0.6427480917547193,
          0.6483460560251435,
          0.6386768449050476,
          0.6432569975768033,
          0.6412213740609681,
          0.6437659034292207,
          0.6432569975161371,
          0.6473282443658086,
          0.647328244456808,
          0.6437659034292207,
          0.6396946565037162,
          0.6452926209864726,
          0.6371501272719629,
          0.6463104326306408,
          0.6427480917243861,
          0.6437659034595538,
          0.6427480916940529,
          0.6458015267782236,
          0.6519083970375643,
          0.6458015267782236,
          0.6447837151947216,
          0.6437659034292207,
          0.6468193386043908,
          0.6513994911548139,
          0.6478371501878928,
          0.6417302800195515,
          0.6519083970982307,
          0.647328244456808,
          0.6488549619230606,
          0.6442748092513048,
          0.6473282443961418,
          0.6432569975464701,
          0.6519083970678975,
          0.6473282442899757,
          0.6508905853933961,
          0.64885496201406,
          0.655979643917569,
          0.6437659033230546,
          0.6452926210168057,
          0.6417302800802177,
          0.6458015268388899,
          0.647328244426475
         ]
        },
        {
         "name": "test",
         "type": "scatter",
         "x": [
          0,
          1,
          2,
          3,
          4,
          5,
          6,
          7,
          8,
          9,
          10,
          11,
          12,
          13,
          14,
          15,
          16,
          17,
          18,
          19,
          20,
          21,
          22,
          23,
          24,
          25,
          26,
          27,
          28,
          29,
          30,
          31,
          32,
          33,
          34,
          35,
          36,
          37,
          38,
          39,
          40,
          41,
          42,
          43,
          44,
          45,
          46,
          47,
          48,
          49,
          50,
          51,
          52,
          53,
          54,
          55,
          56,
          57,
          58,
          59,
          60,
          61,
          62,
          63,
          64,
          65,
          66,
          67,
          68,
          69,
          70,
          71,
          72,
          73,
          74,
          75,
          76,
          77,
          78,
          79,
          80,
          81,
          82,
          83,
          84,
          85,
          86,
          87,
          88,
          89,
          90,
          91,
          92,
          93,
          94,
          95,
          96,
          97,
          98,
          99,
          100,
          101,
          102,
          103,
          104,
          105,
          106,
          107,
          108,
          109,
          110,
          111,
          112,
          113,
          114,
          115,
          116,
          117,
          118,
          119,
          120,
          121,
          122,
          123,
          124,
          125,
          126,
          127,
          128,
          129,
          130,
          131,
          132,
          133,
          134,
          135,
          136,
          137,
          138,
          139,
          140,
          141,
          142,
          143,
          144,
          145,
          146,
          147,
          148,
          149,
          150,
          151,
          152,
          153,
          154,
          155,
          156,
          157,
          158,
          159,
          160,
          161,
          162,
          163,
          164,
          165,
          166,
          167,
          168,
          169,
          170,
          171,
          172,
          173,
          174,
          175,
          176,
          177,
          178,
          179,
          180,
          181,
          182,
          183,
          184,
          185,
          186,
          187,
          188,
          189,
          190,
          191,
          192,
          193,
          194,
          195,
          196,
          197,
          198,
          199,
          200,
          201,
          202,
          203,
          204,
          205,
          206,
          207,
          208,
          209,
          210,
          211,
          212,
          213,
          214,
          215,
          216,
          217,
          218,
          219,
          220,
          221,
          222,
          223,
          224,
          225,
          226,
          227,
          228,
          229,
          230,
          231,
          232,
          233,
          234,
          235,
          236,
          237,
          238,
          239,
          240,
          241,
          242,
          243,
          244,
          245,
          246,
          247,
          248,
          249,
          250,
          251,
          252,
          253,
          254,
          255,
          256,
          257,
          258,
          259,
          260,
          261,
          262,
          263,
          264,
          265,
          266,
          267,
          268,
          269,
          270,
          271,
          272,
          273,
          274,
          275,
          276,
          277,
          278,
          279,
          280,
          281,
          282,
          283,
          284,
          285,
          286,
          287,
          288,
          289,
          290,
          291,
          292,
          293,
          294,
          295,
          296,
          297,
          298,
          299,
          300,
          301,
          302,
          303,
          304,
          305,
          306,
          307,
          308,
          309,
          310,
          311,
          312,
          313,
          314,
          315,
          316,
          317,
          318,
          319,
          320,
          321,
          322,
          323,
          324,
          325,
          326,
          327,
          328,
          329,
          330,
          331,
          332,
          333,
          334,
          335,
          336,
          337,
          338,
          339,
          340,
          341,
          342,
          343,
          344,
          345,
          346,
          347,
          348,
          349,
          350,
          351,
          352,
          353,
          354,
          355,
          356,
          357,
          358,
          359,
          360,
          361,
          362,
          363,
          364,
          365,
          366,
          367,
          368,
          369,
          370,
          371,
          372,
          373,
          374,
          375,
          376,
          377,
          378,
          379,
          380,
          381,
          382,
          383,
          384,
          385,
          386,
          387,
          388,
          389,
          390,
          391,
          392,
          393,
          394,
          395,
          396,
          397,
          398,
          399
         ],
         "y": [
          0.49186991821459636,
          0.49186991821459636,
          0.49186991821459636,
          0.49186991821459636,
          0.49186991821459636,
          0.49186991821459636,
          0.49186991821459636,
          0.4878048775641899,
          0.4898373978893931,
          0.4878048775641899,
          0.48373983691378336,
          0.47357723528776713,
          0.47154471496256384,
          0.4695121946373606,
          0.4776422759381736,
          0.47560975561297036,
          0.4776422759381736,
          0.4898373978893931,
          0.4796747962633769,
          0.4878048775641899,
          0.48373983691378336,
          0.4898373978893931,
          0.4878048775641899,
          0.4817073165885801,
          0.47357723528776713,
          0.5020325198406126,
          0.5020325198406126,
          0.4796747962633769,
          0.49390243853979965,
          0.46747967431215737,
          0.4796747962633769,
          0.47357723528776713,
          0.4796747962633769,
          0.47357723528776713,
          0.4776422759381736,
          0.4817073165885801,
          0.4878048775641899,
          0.4878048775641899,
          0.48373983691378336,
          0.4878048775641899,
          0.4796747962633769,
          0.48577235723898665,
          0.48373983691378336,
          0.48577235723898665,
          0.4898373978893931,
          0.4878048775641899,
          0.48577235723898665,
          0.4878048775641899,
          0.4817073165885801,
          0.4878048775641899,
          0.48373983691378336,
          0.48577235723898665,
          0.48373983691378336,
          0.48373983691378336,
          0.4817073165885801,
          0.5081300808162224,
          0.48373983691378336,
          0.4796747962633769,
          0.4776422759381736,
          0.47357723528776713,
          0.4817073165885801,
          0.4776422759381736,
          0.4817073165885801,
          0.47357723528776713,
          0.4817073165885801,
          0.48373983691378336,
          0.4999999995154094,
          0.4776422759381736,
          0.47154471496256384,
          0.48373983691378336,
          0.5040650401658159,
          0.5060975604910192,
          0.48373983691378336,
          0.4898373978893931,
          0.4878048775641899,
          0.4776422759381736,
          0.4776422759381736,
          0.4898373978893931,
          0.48373983691378336,
          0.47357723528776713,
          0.48577235723898665,
          0.4898373978893931,
          0.4898373978893931,
          0.49186991821459636,
          0.4776422759381736,
          0.47560975561297036,
          0.4898373978893931,
          0.49186991821459636,
          0.48577235723898665,
          0.4959349588650029,
          0.49186991821459636,
          0.4898373978893931,
          0.47357723528776713,
          0.48577235723898665,
          0.4878048775641899,
          0.48577235723898665,
          0.47560975561297036,
          0.5081300808162224,
          0.4898373978893931,
          0.47560975561297036
         ]
        }
       ],
       "layout": {
        "template": {
         "data": {
          "bar": [
           {
            "error_x": {
             "color": "#2a3f5f"
            },
            "error_y": {
             "color": "#2a3f5f"
            },
            "marker": {
             "line": {
              "color": "#E5ECF6",
              "width": 0.5
             }
            },
            "type": "bar"
           }
          ],
          "barpolar": [
           {
            "marker": {
             "line": {
              "color": "#E5ECF6",
              "width": 0.5
             }
            },
            "type": "barpolar"
           }
          ],
          "carpet": [
           {
            "aaxis": {
             "endlinecolor": "#2a3f5f",
             "gridcolor": "white",
             "linecolor": "white",
             "minorgridcolor": "white",
             "startlinecolor": "#2a3f5f"
            },
            "baxis": {
             "endlinecolor": "#2a3f5f",
             "gridcolor": "white",
             "linecolor": "white",
             "minorgridcolor": "white",
             "startlinecolor": "#2a3f5f"
            },
            "type": "carpet"
           }
          ],
          "choropleth": [
           {
            "colorbar": {
             "outlinewidth": 0,
             "ticks": ""
            },
            "type": "choropleth"
           }
          ],
          "contour": [
           {
            "colorbar": {
             "outlinewidth": 0,
             "ticks": ""
            },
            "colorscale": [
             [
              0,
              "#0d0887"
             ],
             [
              0.1111111111111111,
              "#46039f"
             ],
             [
              0.2222222222222222,
              "#7201a8"
             ],
             [
              0.3333333333333333,
              "#9c179e"
             ],
             [
              0.4444444444444444,
              "#bd3786"
             ],
             [
              0.5555555555555556,
              "#d8576b"
             ],
             [
              0.6666666666666666,
              "#ed7953"
             ],
             [
              0.7777777777777778,
              "#fb9f3a"
             ],
             [
              0.8888888888888888,
              "#fdca26"
             ],
             [
              1,
              "#f0f921"
             ]
            ],
            "type": "contour"
           }
          ],
          "contourcarpet": [
           {
            "colorbar": {
             "outlinewidth": 0,
             "ticks": ""
            },
            "type": "contourcarpet"
           }
          ],
          "heatmap": [
           {
            "colorbar": {
             "outlinewidth": 0,
             "ticks": ""
            },
            "colorscale": [
             [
              0,
              "#0d0887"
             ],
             [
              0.1111111111111111,
              "#46039f"
             ],
             [
              0.2222222222222222,
              "#7201a8"
             ],
             [
              0.3333333333333333,
              "#9c179e"
             ],
             [
              0.4444444444444444,
              "#bd3786"
             ],
             [
              0.5555555555555556,
              "#d8576b"
             ],
             [
              0.6666666666666666,
              "#ed7953"
             ],
             [
              0.7777777777777778,
              "#fb9f3a"
             ],
             [
              0.8888888888888888,
              "#fdca26"
             ],
             [
              1,
              "#f0f921"
             ]
            ],
            "type": "heatmap"
           }
          ],
          "heatmapgl": [
           {
            "colorbar": {
             "outlinewidth": 0,
             "ticks": ""
            },
            "colorscale": [
             [
              0,
              "#0d0887"
             ],
             [
              0.1111111111111111,
              "#46039f"
             ],
             [
              0.2222222222222222,
              "#7201a8"
             ],
             [
              0.3333333333333333,
              "#9c179e"
             ],
             [
              0.4444444444444444,
              "#bd3786"
             ],
             [
              0.5555555555555556,
              "#d8576b"
             ],
             [
              0.6666666666666666,
              "#ed7953"
             ],
             [
              0.7777777777777778,
              "#fb9f3a"
             ],
             [
              0.8888888888888888,
              "#fdca26"
             ],
             [
              1,
              "#f0f921"
             ]
            ],
            "type": "heatmapgl"
           }
          ],
          "histogram": [
           {
            "marker": {
             "colorbar": {
              "outlinewidth": 0,
              "ticks": ""
             }
            },
            "type": "histogram"
           }
          ],
          "histogram2d": [
           {
            "colorbar": {
             "outlinewidth": 0,
             "ticks": ""
            },
            "colorscale": [
             [
              0,
              "#0d0887"
             ],
             [
              0.1111111111111111,
              "#46039f"
             ],
             [
              0.2222222222222222,
              "#7201a8"
             ],
             [
              0.3333333333333333,
              "#9c179e"
             ],
             [
              0.4444444444444444,
              "#bd3786"
             ],
             [
              0.5555555555555556,
              "#d8576b"
             ],
             [
              0.6666666666666666,
              "#ed7953"
             ],
             [
              0.7777777777777778,
              "#fb9f3a"
             ],
             [
              0.8888888888888888,
              "#fdca26"
             ],
             [
              1,
              "#f0f921"
             ]
            ],
            "type": "histogram2d"
           }
          ],
          "histogram2dcontour": [
           {
            "colorbar": {
             "outlinewidth": 0,
             "ticks": ""
            },
            "colorscale": [
             [
              0,
              "#0d0887"
             ],
             [
              0.1111111111111111,
              "#46039f"
             ],
             [
              0.2222222222222222,
              "#7201a8"
             ],
             [
              0.3333333333333333,
              "#9c179e"
             ],
             [
              0.4444444444444444,
              "#bd3786"
             ],
             [
              0.5555555555555556,
              "#d8576b"
             ],
             [
              0.6666666666666666,
              "#ed7953"
             ],
             [
              0.7777777777777778,
              "#fb9f3a"
             ],
             [
              0.8888888888888888,
              "#fdca26"
             ],
             [
              1,
              "#f0f921"
             ]
            ],
            "type": "histogram2dcontour"
           }
          ],
          "mesh3d": [
           {
            "colorbar": {
             "outlinewidth": 0,
             "ticks": ""
            },
            "type": "mesh3d"
           }
          ],
          "parcoords": [
           {
            "line": {
             "colorbar": {
              "outlinewidth": 0,
              "ticks": ""
             }
            },
            "type": "parcoords"
           }
          ],
          "scatter": [
           {
            "marker": {
             "colorbar": {
              "outlinewidth": 0,
              "ticks": ""
             }
            },
            "type": "scatter"
           }
          ],
          "scatter3d": [
           {
            "line": {
             "colorbar": {
              "outlinewidth": 0,
              "ticks": ""
             }
            },
            "marker": {
             "colorbar": {
              "outlinewidth": 0,
              "ticks": ""
             }
            },
            "type": "scatter3d"
           }
          ],
          "scattercarpet": [
           {
            "marker": {
             "colorbar": {
              "outlinewidth": 0,
              "ticks": ""
             }
            },
            "type": "scattercarpet"
           }
          ],
          "scattergeo": [
           {
            "marker": {
             "colorbar": {
              "outlinewidth": 0,
              "ticks": ""
             }
            },
            "type": "scattergeo"
           }
          ],
          "scattergl": [
           {
            "marker": {
             "colorbar": {
              "outlinewidth": 0,
              "ticks": ""
             }
            },
            "type": "scattergl"
           }
          ],
          "scattermapbox": [
           {
            "marker": {
             "colorbar": {
              "outlinewidth": 0,
              "ticks": ""
             }
            },
            "type": "scattermapbox"
           }
          ],
          "scatterpolar": [
           {
            "marker": {
             "colorbar": {
              "outlinewidth": 0,
              "ticks": ""
             }
            },
            "type": "scatterpolar"
           }
          ],
          "scatterpolargl": [
           {
            "marker": {
             "colorbar": {
              "outlinewidth": 0,
              "ticks": ""
             }
            },
            "type": "scatterpolargl"
           }
          ],
          "scatterternary": [
           {
            "marker": {
             "colorbar": {
              "outlinewidth": 0,
              "ticks": ""
             }
            },
            "type": "scatterternary"
           }
          ],
          "surface": [
           {
            "colorbar": {
             "outlinewidth": 0,
             "ticks": ""
            },
            "colorscale": [
             [
              0,
              "#0d0887"
             ],
             [
              0.1111111111111111,
              "#46039f"
             ],
             [
              0.2222222222222222,
              "#7201a8"
             ],
             [
              0.3333333333333333,
              "#9c179e"
             ],
             [
              0.4444444444444444,
              "#bd3786"
             ],
             [
              0.5555555555555556,
              "#d8576b"
             ],
             [
              0.6666666666666666,
              "#ed7953"
             ],
             [
              0.7777777777777778,
              "#fb9f3a"
             ],
             [
              0.8888888888888888,
              "#fdca26"
             ],
             [
              1,
              "#f0f921"
             ]
            ],
            "type": "surface"
           }
          ],
          "table": [
           {
            "cells": {
             "fill": {
              "color": "#EBF0F8"
             },
             "line": {
              "color": "white"
             }
            },
            "header": {
             "fill": {
              "color": "#C8D4E3"
             },
             "line": {
              "color": "white"
             }
            },
            "type": "table"
           }
          ]
         },
         "layout": {
          "annotationdefaults": {
           "arrowcolor": "#2a3f5f",
           "arrowhead": 0,
           "arrowwidth": 1
          },
          "colorscale": {
           "diverging": [
            [
             0,
             "#8e0152"
            ],
            [
             0.1,
             "#c51b7d"
            ],
            [
             0.2,
             "#de77ae"
            ],
            [
             0.3,
             "#f1b6da"
            ],
            [
             0.4,
             "#fde0ef"
            ],
            [
             0.5,
             "#f7f7f7"
            ],
            [
             0.6,
             "#e6f5d0"
            ],
            [
             0.7,
             "#b8e186"
            ],
            [
             0.8,
             "#7fbc41"
            ],
            [
             0.9,
             "#4d9221"
            ],
            [
             1,
             "#276419"
            ]
           ],
           "sequential": [
            [
             0,
             "#0d0887"
            ],
            [
             0.1111111111111111,
             "#46039f"
            ],
            [
             0.2222222222222222,
             "#7201a8"
            ],
            [
             0.3333333333333333,
             "#9c179e"
            ],
            [
             0.4444444444444444,
             "#bd3786"
            ],
            [
             0.5555555555555556,
             "#d8576b"
            ],
            [
             0.6666666666666666,
             "#ed7953"
            ],
            [
             0.7777777777777778,
             "#fb9f3a"
            ],
            [
             0.8888888888888888,
             "#fdca26"
            ],
            [
             1,
             "#f0f921"
            ]
           ],
           "sequentialminus": [
            [
             0,
             "#0d0887"
            ],
            [
             0.1111111111111111,
             "#46039f"
            ],
            [
             0.2222222222222222,
             "#7201a8"
            ],
            [
             0.3333333333333333,
             "#9c179e"
            ],
            [
             0.4444444444444444,
             "#bd3786"
            ],
            [
             0.5555555555555556,
             "#d8576b"
            ],
            [
             0.6666666666666666,
             "#ed7953"
            ],
            [
             0.7777777777777778,
             "#fb9f3a"
            ],
            [
             0.8888888888888888,
             "#fdca26"
            ],
            [
             1,
             "#f0f921"
            ]
           ]
          },
          "colorway": [
           "#636efa",
           "#EF553B",
           "#00cc96",
           "#ab63fa",
           "#FFA15A",
           "#19d3f3",
           "#FF6692",
           "#B6E880",
           "#FF97FF",
           "#FECB52"
          ],
          "font": {
           "color": "#2a3f5f"
          },
          "geo": {
           "bgcolor": "white",
           "lakecolor": "white",
           "landcolor": "#E5ECF6",
           "showlakes": true,
           "showland": true,
           "subunitcolor": "white"
          },
          "hoverlabel": {
           "align": "left"
          },
          "hovermode": "closest",
          "mapbox": {
           "style": "light"
          },
          "paper_bgcolor": "white",
          "plot_bgcolor": "#E5ECF6",
          "polar": {
           "angularaxis": {
            "gridcolor": "white",
            "linecolor": "white",
            "ticks": ""
           },
           "bgcolor": "#E5ECF6",
           "radialaxis": {
            "gridcolor": "white",
            "linecolor": "white",
            "ticks": ""
           }
          },
          "scene": {
           "xaxis": {
            "backgroundcolor": "#E5ECF6",
            "gridcolor": "white",
            "gridwidth": 2,
            "linecolor": "white",
            "showbackground": true,
            "ticks": "",
            "zerolinecolor": "white"
           },
           "yaxis": {
            "backgroundcolor": "#E5ECF6",
            "gridcolor": "white",
            "gridwidth": 2,
            "linecolor": "white",
            "showbackground": true,
            "ticks": "",
            "zerolinecolor": "white"
           },
           "zaxis": {
            "backgroundcolor": "#E5ECF6",
            "gridcolor": "white",
            "gridwidth": 2,
            "linecolor": "white",
            "showbackground": true,
            "ticks": "",
            "zerolinecolor": "white"
           }
          },
          "shapedefaults": {
           "line": {
            "color": "#2a3f5f"
           }
          },
          "ternary": {
           "aaxis": {
            "gridcolor": "white",
            "linecolor": "white",
            "ticks": ""
           },
           "baxis": {
            "gridcolor": "white",
            "linecolor": "white",
            "ticks": ""
           },
           "bgcolor": "#E5ECF6",
           "caxis": {
            "gridcolor": "white",
            "linecolor": "white",
            "ticks": ""
           }
          },
          "title": {
           "x": 0.05
          },
          "xaxis": {
           "automargin": true,
           "gridcolor": "white",
           "linecolor": "white",
           "ticks": "",
           "zerolinecolor": "white",
           "zerolinewidth": 2
          },
          "yaxis": {
           "automargin": true,
           "gridcolor": "white",
           "linecolor": "white",
           "ticks": "",
           "zerolinecolor": "white",
           "zerolinewidth": 2
          }
         }
        },
        "title": {
         "text": "<b> accuracy ao longo do treino </b>"
        },
        "xaxis": {
         "title": {
          "text": "Épocas"
         }
        }
       }
      },
      "text/html": [
       "<div>\n",
       "        \n",
       "        \n",
       "            <div id=\"57076d45-93c0-4199-b01f-b18a6826172f\" class=\"plotly-graph-div\" style=\"height:525px; width:100%;\"></div>\n",
       "            <script type=\"text/javascript\">\n",
       "                require([\"plotly\"], function(Plotly) {\n",
       "                    window.PLOTLYENV=window.PLOTLYENV || {};\n",
       "                    \n",
       "                if (document.getElementById(\"57076d45-93c0-4199-b01f-b18a6826172f\")) {\n",
       "                    Plotly.newPlot(\n",
       "                        '57076d45-93c0-4199-b01f-b18a6826172f',\n",
       "                        [{\"name\": \"train\", \"type\": \"scatter\", \"x\": [0, 1, 2, 3, 4, 5, 6, 7, 8, 9, 10, 11, 12, 13, 14, 15, 16, 17, 18, 19, 20, 21, 22, 23, 24, 25, 26, 27, 28, 29, 30, 31, 32, 33, 34, 35, 36, 37, 38, 39, 40, 41, 42, 43, 44, 45, 46, 47, 48, 49, 50, 51, 52, 53, 54, 55, 56, 57, 58, 59, 60, 61, 62, 63, 64, 65, 66, 67, 68, 69, 70, 71, 72, 73, 74, 75, 76, 77, 78, 79, 80, 81, 82, 83, 84, 85, 86, 87, 88, 89, 90, 91, 92, 93, 94, 95, 96, 97, 98, 99, 100, 101, 102, 103, 104, 105, 106, 107, 108, 109, 110, 111, 112, 113, 114, 115, 116, 117, 118, 119, 120, 121, 122, 123, 124, 125, 126, 127, 128, 129, 130, 131, 132, 133, 134, 135, 136, 137, 138, 139, 140, 141, 142, 143, 144, 145, 146, 147, 148, 149, 150, 151, 152, 153, 154, 155, 156, 157, 158, 159, 160, 161, 162, 163, 164, 165, 166, 167, 168, 169, 170, 171, 172, 173, 174, 175, 176, 177, 178, 179, 180, 181, 182, 183, 184, 185, 186, 187, 188, 189, 190, 191, 192, 193, 194, 195, 196, 197, 198, 199, 200, 201, 202, 203, 204, 205, 206, 207, 208, 209, 210, 211, 212, 213, 214, 215, 216, 217, 218, 219, 220, 221, 222, 223, 224, 225, 226, 227, 228, 229, 230, 231, 232, 233, 234, 235, 236, 237, 238, 239, 240, 241, 242, 243, 244, 245, 246, 247, 248, 249, 250, 251, 252, 253, 254, 255, 256, 257, 258, 259, 260, 261, 262, 263, 264, 265, 266, 267, 268, 269, 270, 271, 272, 273, 274, 275, 276, 277, 278, 279, 280, 281, 282, 283, 284, 285, 286, 287, 288, 289, 290, 291, 292, 293, 294, 295, 296, 297, 298, 299, 300, 301, 302, 303, 304, 305, 306, 307, 308, 309, 310, 311, 312, 313, 314, 315, 316, 317, 318, 319, 320, 321, 322, 323, 324, 325, 326, 327, 328, 329, 330, 331, 332, 333, 334, 335, 336, 337, 338, 339, 340, 341, 342, 343, 344, 345, 346, 347, 348, 349, 350, 351, 352, 353, 354, 355, 356, 357, 358, 359, 360, 361, 362, 363, 364, 365, 366, 367, 368, 369, 370, 371, 372, 373, 374, 375, 376, 377, 378, 379, 380, 381, 382, 383, 384, 385, 386, 387, 388, 389, 390, 391, 392, 393, 394, 395, 396, 397, 398, 399], \"y\": [0.6213740458925262, 0.6249363867836144, 0.6249363868594473, 0.6249363869504467, 0.6249363868897805, 0.6249363869504467, 0.6249363869504467, 0.6244274809615302, 0.6234096692263625, 0.6279898220346174, 0.6274809161215338, 0.6264631044166992, 0.6300254454139534, 0.6335877863808745, 0.6315521630015385, 0.6279898218981183, 0.6320610687629564, 0.6310432570126221, 0.6320610688236227, 0.6320610688539559, 0.6290076337697852, 0.6284987278263684, 0.627480916151867, 0.6330788805587905, 0.6320610688236227, 0.6325699747063731, 0.6305343513270371, 0.6325699747367063, 0.6340966921726255, 0.6386768449050476, 0.6335877862595419, 0.6315521628802059, 0.637659033094047, 0.6407124683147168, 0.6356234097905438, 0.6417302799133854, 0.6366412214953784, 0.6361323156732943, 0.6402035623561335, 0.6422391859023019, 0.6402035624622995, 0.6402035624016332, 0.6346055980098764, 0.6335877863808745, 0.6437659034595538, 0.6432569976071365, 0.638676844965714, 0.6417302800195515, 0.6386768449353808, 0.6432569975464701, 0.6417302799892183, 0.6417302800195515, 0.6442748093119711, 0.6437659033533878, 0.6402035624319664, 0.6427480917243861, 0.639694656579549, 0.6371501273174626, 0.6427480917547193, 0.6483460560251435, 0.6386768449050476, 0.6432569975768033, 0.6412213740609681, 0.6437659034292207, 0.6432569975161371, 0.6473282443658086, 0.647328244456808, 0.6437659034292207, 0.6396946565037162, 0.6452926209864726, 0.6371501272719629, 0.6463104326306408, 0.6427480917243861, 0.6437659034595538, 0.6427480916940529, 0.6458015267782236, 0.6519083970375643, 0.6458015267782236, 0.6447837151947216, 0.6437659034292207, 0.6468193386043908, 0.6513994911548139, 0.6478371501878928, 0.6417302800195515, 0.6519083970982307, 0.647328244456808, 0.6488549619230606, 0.6442748092513048, 0.6473282443961418, 0.6432569975464701, 0.6519083970678975, 0.6473282442899757, 0.6508905853933961, 0.64885496201406, 0.655979643917569, 0.6437659033230546, 0.6452926210168057, 0.6417302800802177, 0.6458015268388899, 0.647328244426475]}, {\"name\": \"test\", \"type\": \"scatter\", \"x\": [0, 1, 2, 3, 4, 5, 6, 7, 8, 9, 10, 11, 12, 13, 14, 15, 16, 17, 18, 19, 20, 21, 22, 23, 24, 25, 26, 27, 28, 29, 30, 31, 32, 33, 34, 35, 36, 37, 38, 39, 40, 41, 42, 43, 44, 45, 46, 47, 48, 49, 50, 51, 52, 53, 54, 55, 56, 57, 58, 59, 60, 61, 62, 63, 64, 65, 66, 67, 68, 69, 70, 71, 72, 73, 74, 75, 76, 77, 78, 79, 80, 81, 82, 83, 84, 85, 86, 87, 88, 89, 90, 91, 92, 93, 94, 95, 96, 97, 98, 99, 100, 101, 102, 103, 104, 105, 106, 107, 108, 109, 110, 111, 112, 113, 114, 115, 116, 117, 118, 119, 120, 121, 122, 123, 124, 125, 126, 127, 128, 129, 130, 131, 132, 133, 134, 135, 136, 137, 138, 139, 140, 141, 142, 143, 144, 145, 146, 147, 148, 149, 150, 151, 152, 153, 154, 155, 156, 157, 158, 159, 160, 161, 162, 163, 164, 165, 166, 167, 168, 169, 170, 171, 172, 173, 174, 175, 176, 177, 178, 179, 180, 181, 182, 183, 184, 185, 186, 187, 188, 189, 190, 191, 192, 193, 194, 195, 196, 197, 198, 199, 200, 201, 202, 203, 204, 205, 206, 207, 208, 209, 210, 211, 212, 213, 214, 215, 216, 217, 218, 219, 220, 221, 222, 223, 224, 225, 226, 227, 228, 229, 230, 231, 232, 233, 234, 235, 236, 237, 238, 239, 240, 241, 242, 243, 244, 245, 246, 247, 248, 249, 250, 251, 252, 253, 254, 255, 256, 257, 258, 259, 260, 261, 262, 263, 264, 265, 266, 267, 268, 269, 270, 271, 272, 273, 274, 275, 276, 277, 278, 279, 280, 281, 282, 283, 284, 285, 286, 287, 288, 289, 290, 291, 292, 293, 294, 295, 296, 297, 298, 299, 300, 301, 302, 303, 304, 305, 306, 307, 308, 309, 310, 311, 312, 313, 314, 315, 316, 317, 318, 319, 320, 321, 322, 323, 324, 325, 326, 327, 328, 329, 330, 331, 332, 333, 334, 335, 336, 337, 338, 339, 340, 341, 342, 343, 344, 345, 346, 347, 348, 349, 350, 351, 352, 353, 354, 355, 356, 357, 358, 359, 360, 361, 362, 363, 364, 365, 366, 367, 368, 369, 370, 371, 372, 373, 374, 375, 376, 377, 378, 379, 380, 381, 382, 383, 384, 385, 386, 387, 388, 389, 390, 391, 392, 393, 394, 395, 396, 397, 398, 399], \"y\": [0.49186991821459636, 0.49186991821459636, 0.49186991821459636, 0.49186991821459636, 0.49186991821459636, 0.49186991821459636, 0.49186991821459636, 0.4878048775641899, 0.4898373978893931, 0.4878048775641899, 0.48373983691378336, 0.47357723528776713, 0.47154471496256384, 0.4695121946373606, 0.4776422759381736, 0.47560975561297036, 0.4776422759381736, 0.4898373978893931, 0.4796747962633769, 0.4878048775641899, 0.48373983691378336, 0.4898373978893931, 0.4878048775641899, 0.4817073165885801, 0.47357723528776713, 0.5020325198406126, 0.5020325198406126, 0.4796747962633769, 0.49390243853979965, 0.46747967431215737, 0.4796747962633769, 0.47357723528776713, 0.4796747962633769, 0.47357723528776713, 0.4776422759381736, 0.4817073165885801, 0.4878048775641899, 0.4878048775641899, 0.48373983691378336, 0.4878048775641899, 0.4796747962633769, 0.48577235723898665, 0.48373983691378336, 0.48577235723898665, 0.4898373978893931, 0.4878048775641899, 0.48577235723898665, 0.4878048775641899, 0.4817073165885801, 0.4878048775641899, 0.48373983691378336, 0.48577235723898665, 0.48373983691378336, 0.48373983691378336, 0.4817073165885801, 0.5081300808162224, 0.48373983691378336, 0.4796747962633769, 0.4776422759381736, 0.47357723528776713, 0.4817073165885801, 0.4776422759381736, 0.4817073165885801, 0.47357723528776713, 0.4817073165885801, 0.48373983691378336, 0.4999999995154094, 0.4776422759381736, 0.47154471496256384, 0.48373983691378336, 0.5040650401658159, 0.5060975604910192, 0.48373983691378336, 0.4898373978893931, 0.4878048775641899, 0.4776422759381736, 0.4776422759381736, 0.4898373978893931, 0.48373983691378336, 0.47357723528776713, 0.48577235723898665, 0.4898373978893931, 0.4898373978893931, 0.49186991821459636, 0.4776422759381736, 0.47560975561297036, 0.4898373978893931, 0.49186991821459636, 0.48577235723898665, 0.4959349588650029, 0.49186991821459636, 0.4898373978893931, 0.47357723528776713, 0.48577235723898665, 0.4878048775641899, 0.48577235723898665, 0.47560975561297036, 0.5081300808162224, 0.4898373978893931, 0.47560975561297036]}],\n",
       "                        {\"template\": {\"data\": {\"bar\": [{\"error_x\": {\"color\": \"#2a3f5f\"}, \"error_y\": {\"color\": \"#2a3f5f\"}, \"marker\": {\"line\": {\"color\": \"#E5ECF6\", \"width\": 0.5}}, \"type\": \"bar\"}], \"barpolar\": [{\"marker\": {\"line\": {\"color\": \"#E5ECF6\", \"width\": 0.5}}, \"type\": \"barpolar\"}], \"carpet\": [{\"aaxis\": {\"endlinecolor\": \"#2a3f5f\", \"gridcolor\": \"white\", \"linecolor\": \"white\", \"minorgridcolor\": \"white\", \"startlinecolor\": \"#2a3f5f\"}, \"baxis\": {\"endlinecolor\": \"#2a3f5f\", \"gridcolor\": \"white\", \"linecolor\": \"white\", \"minorgridcolor\": \"white\", \"startlinecolor\": \"#2a3f5f\"}, \"type\": \"carpet\"}], \"choropleth\": [{\"colorbar\": {\"outlinewidth\": 0, \"ticks\": \"\"}, \"type\": \"choropleth\"}], \"contour\": [{\"colorbar\": {\"outlinewidth\": 0, \"ticks\": \"\"}, \"colorscale\": [[0.0, \"#0d0887\"], [0.1111111111111111, \"#46039f\"], [0.2222222222222222, \"#7201a8\"], [0.3333333333333333, \"#9c179e\"], [0.4444444444444444, \"#bd3786\"], [0.5555555555555556, \"#d8576b\"], [0.6666666666666666, \"#ed7953\"], [0.7777777777777778, \"#fb9f3a\"], [0.8888888888888888, \"#fdca26\"], [1.0, \"#f0f921\"]], \"type\": \"contour\"}], \"contourcarpet\": [{\"colorbar\": {\"outlinewidth\": 0, \"ticks\": \"\"}, \"type\": \"contourcarpet\"}], \"heatmap\": [{\"colorbar\": {\"outlinewidth\": 0, \"ticks\": \"\"}, \"colorscale\": [[0.0, \"#0d0887\"], [0.1111111111111111, \"#46039f\"], [0.2222222222222222, \"#7201a8\"], [0.3333333333333333, \"#9c179e\"], [0.4444444444444444, \"#bd3786\"], [0.5555555555555556, \"#d8576b\"], [0.6666666666666666, \"#ed7953\"], [0.7777777777777778, \"#fb9f3a\"], [0.8888888888888888, \"#fdca26\"], [1.0, \"#f0f921\"]], \"type\": \"heatmap\"}], \"heatmapgl\": [{\"colorbar\": {\"outlinewidth\": 0, \"ticks\": \"\"}, \"colorscale\": [[0.0, \"#0d0887\"], [0.1111111111111111, \"#46039f\"], [0.2222222222222222, \"#7201a8\"], [0.3333333333333333, \"#9c179e\"], [0.4444444444444444, \"#bd3786\"], [0.5555555555555556, \"#d8576b\"], [0.6666666666666666, \"#ed7953\"], [0.7777777777777778, \"#fb9f3a\"], [0.8888888888888888, \"#fdca26\"], [1.0, \"#f0f921\"]], \"type\": \"heatmapgl\"}], \"histogram\": [{\"marker\": {\"colorbar\": {\"outlinewidth\": 0, \"ticks\": \"\"}}, \"type\": \"histogram\"}], \"histogram2d\": [{\"colorbar\": {\"outlinewidth\": 0, \"ticks\": \"\"}, \"colorscale\": [[0.0, \"#0d0887\"], [0.1111111111111111, \"#46039f\"], [0.2222222222222222, \"#7201a8\"], [0.3333333333333333, \"#9c179e\"], [0.4444444444444444, \"#bd3786\"], [0.5555555555555556, \"#d8576b\"], [0.6666666666666666, \"#ed7953\"], [0.7777777777777778, \"#fb9f3a\"], [0.8888888888888888, \"#fdca26\"], [1.0, \"#f0f921\"]], \"type\": \"histogram2d\"}], \"histogram2dcontour\": [{\"colorbar\": {\"outlinewidth\": 0, \"ticks\": \"\"}, \"colorscale\": [[0.0, \"#0d0887\"], [0.1111111111111111, \"#46039f\"], [0.2222222222222222, \"#7201a8\"], [0.3333333333333333, \"#9c179e\"], [0.4444444444444444, \"#bd3786\"], [0.5555555555555556, \"#d8576b\"], [0.6666666666666666, \"#ed7953\"], [0.7777777777777778, \"#fb9f3a\"], [0.8888888888888888, \"#fdca26\"], [1.0, \"#f0f921\"]], \"type\": \"histogram2dcontour\"}], \"mesh3d\": [{\"colorbar\": {\"outlinewidth\": 0, \"ticks\": \"\"}, \"type\": \"mesh3d\"}], \"parcoords\": [{\"line\": {\"colorbar\": {\"outlinewidth\": 0, \"ticks\": \"\"}}, \"type\": \"parcoords\"}], \"scatter\": [{\"marker\": {\"colorbar\": {\"outlinewidth\": 0, \"ticks\": \"\"}}, \"type\": \"scatter\"}], \"scatter3d\": [{\"line\": {\"colorbar\": {\"outlinewidth\": 0, \"ticks\": \"\"}}, \"marker\": {\"colorbar\": {\"outlinewidth\": 0, \"ticks\": \"\"}}, \"type\": \"scatter3d\"}], \"scattercarpet\": [{\"marker\": {\"colorbar\": {\"outlinewidth\": 0, \"ticks\": \"\"}}, \"type\": \"scattercarpet\"}], \"scattergeo\": [{\"marker\": {\"colorbar\": {\"outlinewidth\": 0, \"ticks\": \"\"}}, \"type\": \"scattergeo\"}], \"scattergl\": [{\"marker\": {\"colorbar\": {\"outlinewidth\": 0, \"ticks\": \"\"}}, \"type\": \"scattergl\"}], \"scattermapbox\": [{\"marker\": {\"colorbar\": {\"outlinewidth\": 0, \"ticks\": \"\"}}, \"type\": \"scattermapbox\"}], \"scatterpolar\": [{\"marker\": {\"colorbar\": {\"outlinewidth\": 0, \"ticks\": \"\"}}, \"type\": \"scatterpolar\"}], \"scatterpolargl\": [{\"marker\": {\"colorbar\": {\"outlinewidth\": 0, \"ticks\": \"\"}}, \"type\": \"scatterpolargl\"}], \"scatterternary\": [{\"marker\": {\"colorbar\": {\"outlinewidth\": 0, \"ticks\": \"\"}}, \"type\": \"scatterternary\"}], \"surface\": [{\"colorbar\": {\"outlinewidth\": 0, \"ticks\": \"\"}, \"colorscale\": [[0.0, \"#0d0887\"], [0.1111111111111111, \"#46039f\"], [0.2222222222222222, \"#7201a8\"], [0.3333333333333333, \"#9c179e\"], [0.4444444444444444, \"#bd3786\"], [0.5555555555555556, \"#d8576b\"], [0.6666666666666666, \"#ed7953\"], [0.7777777777777778, \"#fb9f3a\"], [0.8888888888888888, \"#fdca26\"], [1.0, \"#f0f921\"]], \"type\": \"surface\"}], \"table\": [{\"cells\": {\"fill\": {\"color\": \"#EBF0F8\"}, \"line\": {\"color\": \"white\"}}, \"header\": {\"fill\": {\"color\": \"#C8D4E3\"}, \"line\": {\"color\": \"white\"}}, \"type\": \"table\"}]}, \"layout\": {\"annotationdefaults\": {\"arrowcolor\": \"#2a3f5f\", \"arrowhead\": 0, \"arrowwidth\": 1}, \"colorscale\": {\"diverging\": [[0, \"#8e0152\"], [0.1, \"#c51b7d\"], [0.2, \"#de77ae\"], [0.3, \"#f1b6da\"], [0.4, \"#fde0ef\"], [0.5, \"#f7f7f7\"], [0.6, \"#e6f5d0\"], [0.7, \"#b8e186\"], [0.8, \"#7fbc41\"], [0.9, \"#4d9221\"], [1, \"#276419\"]], \"sequential\": [[0.0, \"#0d0887\"], [0.1111111111111111, \"#46039f\"], [0.2222222222222222, \"#7201a8\"], [0.3333333333333333, \"#9c179e\"], [0.4444444444444444, \"#bd3786\"], [0.5555555555555556, \"#d8576b\"], [0.6666666666666666, \"#ed7953\"], [0.7777777777777778, \"#fb9f3a\"], [0.8888888888888888, \"#fdca26\"], [1.0, \"#f0f921\"]], \"sequentialminus\": [[0.0, \"#0d0887\"], [0.1111111111111111, \"#46039f\"], [0.2222222222222222, \"#7201a8\"], [0.3333333333333333, \"#9c179e\"], [0.4444444444444444, \"#bd3786\"], [0.5555555555555556, \"#d8576b\"], [0.6666666666666666, \"#ed7953\"], [0.7777777777777778, \"#fb9f3a\"], [0.8888888888888888, \"#fdca26\"], [1.0, \"#f0f921\"]]}, \"colorway\": [\"#636efa\", \"#EF553B\", \"#00cc96\", \"#ab63fa\", \"#FFA15A\", \"#19d3f3\", \"#FF6692\", \"#B6E880\", \"#FF97FF\", \"#FECB52\"], \"font\": {\"color\": \"#2a3f5f\"}, \"geo\": {\"bgcolor\": \"white\", \"lakecolor\": \"white\", \"landcolor\": \"#E5ECF6\", \"showlakes\": true, \"showland\": true, \"subunitcolor\": \"white\"}, \"hoverlabel\": {\"align\": \"left\"}, \"hovermode\": \"closest\", \"mapbox\": {\"style\": \"light\"}, \"paper_bgcolor\": \"white\", \"plot_bgcolor\": \"#E5ECF6\", \"polar\": {\"angularaxis\": {\"gridcolor\": \"white\", \"linecolor\": \"white\", \"ticks\": \"\"}, \"bgcolor\": \"#E5ECF6\", \"radialaxis\": {\"gridcolor\": \"white\", \"linecolor\": \"white\", \"ticks\": \"\"}}, \"scene\": {\"xaxis\": {\"backgroundcolor\": \"#E5ECF6\", \"gridcolor\": \"white\", \"gridwidth\": 2, \"linecolor\": \"white\", \"showbackground\": true, \"ticks\": \"\", \"zerolinecolor\": \"white\"}, \"yaxis\": {\"backgroundcolor\": \"#E5ECF6\", \"gridcolor\": \"white\", \"gridwidth\": 2, \"linecolor\": \"white\", \"showbackground\": true, \"ticks\": \"\", \"zerolinecolor\": \"white\"}, \"zaxis\": {\"backgroundcolor\": \"#E5ECF6\", \"gridcolor\": \"white\", \"gridwidth\": 2, \"linecolor\": \"white\", \"showbackground\": true, \"ticks\": \"\", \"zerolinecolor\": \"white\"}}, \"shapedefaults\": {\"line\": {\"color\": \"#2a3f5f\"}}, \"ternary\": {\"aaxis\": {\"gridcolor\": \"white\", \"linecolor\": \"white\", \"ticks\": \"\"}, \"baxis\": {\"gridcolor\": \"white\", \"linecolor\": \"white\", \"ticks\": \"\"}, \"bgcolor\": \"#E5ECF6\", \"caxis\": {\"gridcolor\": \"white\", \"linecolor\": \"white\", \"ticks\": \"\"}}, \"title\": {\"x\": 0.05}, \"xaxis\": {\"automargin\": true, \"gridcolor\": \"white\", \"linecolor\": \"white\", \"ticks\": \"\", \"zerolinecolor\": \"white\", \"zerolinewidth\": 2}, \"yaxis\": {\"automargin\": true, \"gridcolor\": \"white\", \"linecolor\": \"white\", \"ticks\": \"\", \"zerolinecolor\": \"white\", \"zerolinewidth\": 2}}}, \"title\": {\"text\": \"<b> accuracy ao longo do treino </b>\"}, \"xaxis\": {\"title\": {\"text\": \"\\u00c9pocas\"}}},\n",
       "                        {\"responsive\": true}\n",
       "                    ).then(function(){\n",
       "                            \n",
       "var gd = document.getElementById('57076d45-93c0-4199-b01f-b18a6826172f');\n",
       "var x = new MutationObserver(function (mutations, observer) {{\n",
       "        var display = window.getComputedStyle(gd).display;\n",
       "        if (!display || display === 'none') {{\n",
       "            console.log([gd, 'removed!']);\n",
       "            Plotly.purge(gd);\n",
       "            observer.disconnect();\n",
       "        }}\n",
       "}});\n",
       "\n",
       "// Listen for the removal of the full notebook cells\n",
       "var notebookContainer = gd.closest('#notebook-container');\n",
       "if (notebookContainer) {{\n",
       "    x.observe(notebookContainer, {childList: true});\n",
       "}}\n",
       "\n",
       "// Listen for the clearing of the current output cell\n",
       "var outputEl = gd.closest('.output');\n",
       "if (outputEl) {{\n",
       "    x.observe(outputEl, {childList: true});\n",
       "}}\n",
       "\n",
       "                        })\n",
       "                };\n",
       "                });\n",
       "            </script>\n",
       "        </div>"
      ]
     },
     "metadata": {},
     "output_type": "display_data"
    }
   ],
   "source": [
    "fig = go.Figure()\n",
    "\n",
    "fig.add_trace(go.Scatter(x = np.array(range(400)), y=history.history['acc'], name='train'))\n",
    "fig.add_trace(go.Scatter(x = np.array(range(400)), y=history.history['val_acc'], name='test'))\n",
    "fig.update_layout(title='<b> accuracy ao longo do treino </b>')\n",
    "fig.update_xaxes(title_text='Épocas')\n",
    "fig.show()"
   ]
  }
 ],
 "metadata": {
  "kernelspec": {
   "display_name": "Python 3",
   "language": "python",
   "name": "python3"
  },
  "language_info": {
   "codemirror_mode": {
    "name": "ipython",
    "version": 3
   },
   "file_extension": ".py",
   "mimetype": "text/x-python",
   "name": "python",
   "nbconvert_exporter": "python",
   "pygments_lexer": "ipython3",
   "version": "3.6.5"
  }
 },
 "nbformat": 4,
 "nbformat_minor": 2
}

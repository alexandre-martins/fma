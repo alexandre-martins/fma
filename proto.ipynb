{
 "cells": [
  {
   "cell_type": "markdown",
   "metadata": {},
   "source": [
    "Velho, a ideia de forma mais detalhada é o seguinte:\n",
    "\n",
    "1. Escolher um ativo alvo, que vamos tentar prever o preço dele na próxima semana ou mês. Não estou pensando em day trade, ou seja, tentar prever o preço daqui a 15 min. Acho que isso é bem mais difícil... Colocar um prazo de 1-3 semanas talvez seja mais viável. Podemos discutir isso ai.\n",
    "\n",
    "2. Encontrar alguns ativos fortemente correlacionados com o ativo de interesse. Ou seja, encontrar outras ações que historicamente tendem a acompanhar a oscilação de preço desse ativo alvo. Quando uma sobe, a outra sobe também. Quando uma cai, a outra cai tb, etc. A ideia é selecionar outras ações que tem forte correlação para alimentar o modelo.\n",
    "\n",
    "3. Tentar incorporar dados de análise fundamentalista apenas do ativo de interesse. Algo sobre patrimônio líquido, pagamento de dividendos, etc... - temos que ver quais dados seriam interessantes e o mais importante: como obtê-los kkk\n",
    "\n",
    "4. Pegar isso tudo e alimentar um modelo de ML de regressão pra tentar prever o preço nas próximas 1-3 semanas. Avaliar a performance do modelo. É isso haha"
   ]
  },
  {
   "cell_type": "code",
   "execution_count": null,
   "metadata": {},
   "outputs": [],
   "source": [
    "import numpy as np\n",
    "import datetime\n",
    "\n",
    "import matplotlib.pyplot as plt\n",
    "%matplotlib inline\n",
    "plt.style.use('ggplot')\n",
    "\n",
    "%load_ext Cython\n",
    "import copt  # cython optimized stuff\n",
    "\n",
    "import pandas as pd\n",
    "\n",
    "df = pd.read_csv('data/raw_data.txt')\n",
    "df.info()\n",
    "df.head()"
   ]
  },
  {
   "cell_type": "code",
   "execution_count": null,
   "metadata": {},
   "outputs": [],
   "source": [
    "# import cProfile\n",
    "# cProfile.run('df[\\'datahora\\'].apply(lambda x: datetime.datetime.strptime(str(x), \\'%Y%m%d%H%M\\'))')\n",
    "# cProfile.run('pd.to_datetime(df[\\'datahora\\'], format=\\'%Y%m%d%H%M\\')')\n",
    "# cProfile.run('df[\\'datahora\\'].apply(lambda x: i64todt(x))')"
   ]
  },
  {
   "cell_type": "code",
   "execution_count": null,
   "metadata": {},
   "outputs": [],
   "source": [
    "df['datahora'].apply(lambda x: copt.i64todt(x))"
   ]
  },
  {
   "cell_type": "markdown",
   "metadata": {},
   "source": [
    "<hr></hr>"
   ]
  },
  {
   "cell_type": "code",
   "execution_count": null,
   "metadata": {},
   "outputs": [],
   "source": [
    "# Pega apenas os dados de interesse, renomeia as colunas e coloca o datetime de índice\n",
    "data = df[['codigo', 'fechamento_atual', 'volume_financeiro', 'datahora']]\n",
    "data.columns = ['code', 'close', 'volume', 'datetime']\n",
    "data.set_index('datetime', inplace=True)"
   ]
  },
  {
   "cell_type": "code",
   "execution_count": null,
   "metadata": {
    "scrolled": true
   },
   "outputs": [],
   "source": [
    "# Organiza os dados em .csv separado para cada empresa, já agrupados por dia\n",
    "\n",
    "import os\n",
    "\n",
    "companies = data.code.unique()\n",
    "\n",
    "if not os.path.exists(r'C:\\Users\\aleex\\Desktop\\dados_financas\\companies'):\n",
    "    os.makedirs(r'C:\\Users\\aleex\\Desktop\\dados_financas\\companies')\n",
    "    \n",
    "for companie in companies:\n",
    "    if not os.path.exists(r'C:\\Users\\aleex\\Desktop\\dados_financas\\companies\\{}_1d.csv'.format(companie)):\n",
    "        df_dumb = data[data['code'] == '{}'.format(companie)]\n",
    "        df_dumb = df_dumb[['close', 'volume']]\n",
    "        df_dumb_1d = df_dumb['close'].resample('1D').ohlc() # Transforma em dados diários - fechamento\n",
    "        df_dumb_volume = df_dumb['volume'].resample('1D').sum() # Transforma em dados diários - volume\n",
    "        df_dumb_1d = df_dumb_1d.join(df_dumb_volume, how='inner')\n",
    "        df_dumb_1d.to_csv(r'C:\\Users\\aleex\\Desktop\\dados_financas\\companies\\{}_1d.csv'.format(companie))\n",
    "        \n",
    "    print(companie)"
   ]
  },
  {
   "cell_type": "code",
   "execution_count": null,
   "metadata": {
    "scrolled": true
   },
   "outputs": [],
   "source": [
    "# Abre cada arquivo que foi gerado, obtém os dados de fechamento de cada empresa e salva em um df único\n",
    "\n",
    "main_df = pd.DataFrame()\n",
    "    \n",
    "for companie in companies:\n",
    "    df = pd.read_csv(r'C:\\Users\\aleex\\Desktop\\dados_financas\\companies\\{}_1d.csv'.format(companie), index_col='datetime')\n",
    "    df.rename(columns = {'close': companie}, inplace=True)\n",
    "    df.drop(['open', 'high', 'low', 'volume'], axis = 1, inplace=True)\n",
    "    \n",
    "    if main_df.empty:\n",
    "        main_df = df\n",
    "    else:\n",
    "        main_df = main_df.join(df, how='outer')\n",
    "    \n",
    "    print('Juntando dados da empresa {}...'.format(companie))\n",
    "    \n",
    "main_df.head()"
   ]
  },
  {
   "cell_type": "code",
   "execution_count": null,
   "metadata": {},
   "outputs": [],
   "source": [
    "# Faz um dataframe com a correlações e plota o heatmap de parte do df de correlações\n",
    "\n",
    "df_corr = main_df.pct_change(periods=7) # Diferença percentual semanal dos preços\n",
    "df_corr = df_corr.corr()\n",
    "print(df_corr)\n",
    "\n",
    "correlations = df_corr.values\n",
    "\n",
    "fig, ax = plt.subplots(figsize=(20, 20))\n",
    "heatmap = ax.pcolor(correlations[0:11,0:11], cmap = 'RdYlGn')\n",
    "fig.colorbar(heatmap)\n",
    "ax.set_xticks(np.arange(correlations[0:11,0:11].shape[0]) + 0.5, minor=False)\n",
    "ax.set_yticks(np.arange(correlations[0:11,0:11].shape[1]) + 0.5, minor=False)\n",
    "ax.invert_yaxis()\n",
    "ax.xaxis.tick_top()\n",
    "\n",
    "ax.set_xticklabels(df_corr[0:11].columns)\n",
    "ax.set_yticklabels(df_corr[0:11].index)\n",
    "ax.set_title('Correlations', pad= 30, fontdict = {'fontsize': 20})\n",
    "plt.show()"
   ]
  },
  {
   "cell_type": "code",
   "execution_count": null,
   "metadata": {
    "scrolled": true
   },
   "outputs": [],
   "source": [
    "# Conta quantas correlações maiores que 0.9 ou -0.9 existem para cada ativo\n",
    "# É utilizado na escolha do ativo alvo\n",
    "\n",
    "pd.options.display.max_rows = 999\n",
    "df_boolean = ((df_corr > 0.7) | (df_corr < - 0.1))\n",
    "\n",
    "companies = []\n",
    "number_of_corr = []\n",
    "\n",
    "for companie in df_corr.columns:\n",
    "    sum_corr = np.sum(df_boolean[companie])\n",
    "    companies.append(companie)\n",
    "    number_of_corr.append(sum_corr)\n",
    "    \n",
    "df_sum_corr = pd.DataFrame(list(zip(companies, number_of_corr)), columns=['Companie', 'Number_of_correlations'])\n",
    "df_sum_corr"
   ]
  },
  {
   "cell_type": "code",
   "execution_count": null,
   "metadata": {},
   "outputs": [],
   "source": [
    "# Reparei que a CSN tem 4 ações com forte correlação. Todas do setor metalúrgico, menos a BRAP4.\n",
    "# Pegar ela de exemplo aqui (pdoemos escolher outro ativo se quiser)\n",
    "\n",
    "df_csn = df_corr['CSNA3'][(df_corr['CSNA3'] > 0.7) | (df_corr['CSNA3'] < - 0.1)]\n",
    "df_csn"
   ]
  },
  {
   "cell_type": "code",
   "execution_count": null,
   "metadata": {},
   "outputs": [],
   "source": [
    "# Pego o histórico de preços só das ações que selecionei pela correlação\n",
    "\n",
    "df_csn_corr = main_df[['BRAP4', 'GGBR4', 'USIM5', 'VALE3', 'CSNA3']]\n",
    "df_csn_corr = df_csn_corr.dropna()\n",
    "df_csn_corr.head()"
   ]
  },
  {
   "cell_type": "code",
   "execution_count": null,
   "metadata": {},
   "outputs": [],
   "source": [
    "# Ploto um scatter matrix pra visualização\n",
    "\n",
    "from pandas.plotting import scatter_matrix\n",
    "\n",
    "scatter_matrix(df_csn_corr, figsize=(20,20), alpha=0.6)\n",
    "plt.show()"
   ]
  },
  {
   "cell_type": "markdown",
   "metadata": {},
   "source": [
    "Mano, da pra ver que existem correlação bem fortes... por exemplo entre VALE3 e BRAP4...\n",
    "\n",
    "Aparentemente não existem correlações negativas tão fortes quanto existem correlações positivas entre as empresas... Não sei pq\n",
    "\n",
    "A ideia é selecionar alguns ativos fortemente correlacionados com o que a gente escolher para alimentar o modelo"
   ]
  },
  {
   "cell_type": "code",
   "execution_count": null,
   "metadata": {},
   "outputs": [],
   "source": [
    "date = pd.to_datetime(df_csn_corr.index, format = '%Y-%m-%d') # Só transforma pra datetime para conseguir plotar"
   ]
  },
  {
   "cell_type": "code",
   "execution_count": null,
   "metadata": {},
   "outputs": [],
   "source": [
    "fig, ax = plt.subplots(figsize=(20, 10))\n",
    "ax.plot(date, df_csn_corr['VALE3'], label = 'VALE3')\n",
    "ax.plot(date, df_csn_corr['CSNA3'], label = 'CSNA3')\n",
    "ax.legend(loc = 2, prop={'size': 15})\n",
    "\n",
    "\n",
    "ax.set_ylabel('Preço do papel')\n",
    "\n",
    "plt.show()"
   ]
  },
  {
   "cell_type": "code",
   "execution_count": null,
   "metadata": {},
   "outputs": [],
   "source": [
    "fig, ax = plt.subplots(figsize=(20, 10))\n",
    "ax.plot(date, df_csn_corr['CSNA3'], label = 'CSNA3')\n",
    "ax.plot(date, df_csn_corr['USIM5'], label = 'USIM5')\n",
    "ax.legend(loc = 2, prop={'size': 15})\n",
    "\n",
    "\n",
    "ax.set_ylabel('Preço do papel')\n",
    "\n",
    "plt.show()"
   ]
  },
  {
   "cell_type": "markdown",
   "metadata": {},
   "source": [
    "Tipo, da pra ver que de fato há uma relação forte entre a variação de preço dessas empresas... mas a minha impressão pelo menos é que essa relação era mais forte no passado e foi se perdendo um pouco a partir de 2016 assim. Tem que ver isso também né... as vezes é melhor a gente olhar para as correlações calculadas só em anos mais recentes... tipo de 2016 pra frente.\n",
    "\n",
    "Esse é outro ponto para discutirmos também..."
   ]
  },
  {
   "cell_type": "code",
   "execution_count": null,
   "metadata": {},
   "outputs": [],
   "source": []
  }
 ],
 "metadata": {
  "kernelspec": {
   "display_name": "Python 3",
   "language": "python",
   "name": "python3"
  },
  "language_info": {
   "codemirror_mode": {
    "name": "ipython",
    "version": 3
   },
   "file_extension": ".py",
   "mimetype": "text/x-python",
   "name": "python",
   "nbconvert_exporter": "python",
   "pygments_lexer": "ipython3",
   "version": "3.7.4"
  }
 },
 "nbformat": 4,
 "nbformat_minor": 2
}
